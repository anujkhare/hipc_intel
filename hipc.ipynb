{
 "metadata": {
  "name": "",
  "signature": "sha256:d2cc099237f647ffa4db9e7d77934307646b27d070e42a375b0d23754f06c0d0"
 },
 "nbformat": 3,
 "nbformat_minor": 0,
 "worksheets": [
  {
   "cells": [
    {
     "cell_type": "code",
     "collapsed": false,
     "input": [
      "%load_ext vimception\n",
      "%vimception"
     ],
     "language": "python",
     "metadata": {},
     "outputs": [
      {
       "javascript": [
        "\n",
        "var cmd = IPython.keyboard_manager.command_shortcuts;\n",
        "var edit = IPython.keyboard_manager.edit_shortcuts;\n",
        "var def_cmd = IPython.default_command_shortcuts;\n",
        "var def_edit = IPython.default_edit_shortcuts;\n",
        "\n",
        "// get the code mirror editor of a curently selected cell\n",
        "function C() { return IPython.notebook.get_selected_cell().code_mirror; };\n",
        "\n",
        "// Change the mode of all current and future CodeMirror instances\n",
        "// Emacs users can use this function as just to('emacs') so long as they've\n",
        "// required/loaded emacs.js from CodeMirror\n",
        "function to(mode) {\n",
        "    var mode = mode || 'vim'\n",
        "    // first let's apply vim mode to all current cells\n",
        "    function to_mode(c) { return c.code_mirror.setOption('keyMap', mode);};\n",
        "    IPython.notebook.get_cells().map(to_mode);\n",
        "    // apply the mode to future cells created\n",
        "    IPython.Cell.options_default.cm_config.keyMap = mode;\n",
        "}\n",
        "\n",
        "function getCSS(path) {\n",
        "    $('<link/>', {\n",
        "       rel: 'stylesheet',\n",
        "       type: 'text/css',\n",
        "       href: path,\n",
        "    }).appendTo('head');\n",
        "}\n",
        "\n",
        "// I messed around with trying to get requireJS going here, but gave up and\n",
        "// just using this answer from SO \n",
        "// http://stackoverflow.com/questions/11803215/how-to-include-multiple-js-files-using-jquery-getscript-method\n",
        "\n",
        "var p = \"/static/components/codemirror/addon/\";\n",
        "\n",
        "$.when(\n",
        "// Grab the CodeMirror vim keymap\n",
        "$.getScript(p + \"../keymap/vim.js\"),\n",
        "// also make search work via /\n",
        "$.getScript(p + \"search/search.js\"),\n",
        "$.getScript(p + \"search/searchcursor.js\"),\n",
        "\n",
        "// TODO: hook-up gq to perform a harwrap\n",
        "$.getScript(p + \"wrap/hardwrap.js\"),\n",
        "$.getScript(p + \"selection/active-line.js\"),\n",
        "\n",
        "$.getScript(p + \"display/fullscreen.js\"),\n",
        "getCSS(p + \"display/fullscreen.css\"),\n",
        "getCSS(p + \"dialog/dialog.css\"),\n",
        "$.getScript(p + \"dialog/dialog.js\"),\n",
        "\n",
        "\n",
        "    $.Deferred(function( deferred ){\n",
        "        $( deferred.resolve );\n",
        "    })\n",
        ").then(function success(){\n",
        "\n",
        "console.log('Great success');\n",
        "\n",
        "IPython.CodeCell.options_default.cm_config.foldGutter = true;\n",
        "IPython.CodeCell.options_default.cm_config.gutters =  [\"CodeMirror-linenumbers\", \"CodeMirror-foldgutter\"];\n",
        "\n",
        "IPython.Cell.prototype.at_top = function () {\n",
        "        var cm = this.code_mirror;\n",
        "        var cursor = cm.getCursor();\n",
        "        if (cursor.line === 0) {\n",
        "            return true;\n",
        "        }\n",
        "        return false;\n",
        "    };\n",
        "\n",
        "\n",
        "IPython.Cell.prototype.at_bottom = function () {\n",
        "    var cm = this.code_mirror;\n",
        "    var cursor = cm.getCursor();\n",
        "    if (cursor.line === (cm.lineCount()-1)) {\n",
        "        return true;\n",
        "    }\n",
        "    return false;\n",
        "};\n",
        "// on all code mirror instances on this page, apply the function f\n",
        "function all_cm(f) {\n",
        "    // apply f to every code mirror instance. f takes one parameter\n",
        "    IPython.notebook.get_cells().map(function (c) { f(c.code_mirror); } );\n",
        "}\n",
        "\n",
        "\n",
        "to('vim');\n",
        "function vim_up(event) {\n",
        "    var cell = IPython.notebook.get_selected_cell();\n",
        "    if (cell && cell.at_top() && cell.code_mirror.options.keyMap === 'vim') {\n",
        "        console.log('inside the business logic k');\n",
        "        event.preventDefault();\n",
        "        IPython.notebook.command_mode()\n",
        "        IPython.notebook.select_prev();\n",
        "        IPython.notebook.edit_mode();\n",
        "        return false;\n",
        "    };\n",
        "}\n",
        "\n",
        "function vim_down(event) {\n",
        "            var cell = IPython.notebook.get_selected_cell();\n",
        "            if (cell && cell.at_bottom() && cell.code_mirror.options.keyMap === 'vim') {\n",
        "                event.preventDefault();\n",
        "                IPython.notebook.command_mode()\n",
        "                IPython.notebook.select_next();\n",
        "                IPython.notebook.edit_mode();\n",
        "                return false;\n",
        "            };\n",
        "        }\n",
        "\n",
        "var m = '(vim) '\n",
        "var edit_shortcuts = {\n",
        "    'k' : {\n",
        "        help    : m + 'up a line, even across cells',\n",
        "        help_index : 'AA',\n",
        "        handler : vim_up\n",
        "    },\n",
        "    'j' : {\n",
        "        help    : m + 'down a line, even across cells',\n",
        "        help_index : 'AA',\n",
        "        handler : vim_down\n",
        "    },\n",
        "\n",
        "};\n",
        "\n",
        "var command_shortcuts = {\n",
        "    'c' :  {\n",
        "        help    : m + def_cmd['y'].help,\n",
        "        help_index : 'AA',\n",
        "        handler : def_cmd['y'].handler\n",
        "    }\n",
        "\n",
        "\n",
        "};\n",
        "\n",
        "edit.add_shortcuts(edit_shortcuts);\n",
        "cmd.add_shortcuts(command_shortcuts);\n",
        "//edit.add_shortcuts('k', def_edit['up'].handler);\n",
        "//edit.add_shortcut('j', def_edit['down'].handler);\n",
        "\n",
        "// N.B. This code looks fairly simple, but it took me forever to \n",
        "// figure out how to do this, \n",
        "// \n",
        "// there's a problem here, Ctrl-[ is already handled by CodeMirror by the time we \n",
        "// (IPython.keyboard_manager) get it CodeMirror issues signals on mode change, \n",
        "// so we have to hook into that to get Ctrl-[\n",
        "edit.remove_shortcut('Ctrl-[');\n",
        "edit.remove_shortcut('Esc');\n",
        "\n",
        "CodeMirror.commands.leaveInsertOrEdit = function (cm) {\n",
        "    if ( cm.state.vim.insertMode ) {\n",
        "        // do magic here to get out of insert mode\n",
        "        CodeMirror.keyMap['vim-insert']['Esc'](cm);\n",
        "    } else {\n",
        "        IPython.notebook.command_mode();\n",
        "        IPython.notebook.focus_cell();\n",
        "    }\n",
        "};\n",
        "        \n",
        "//C().options.extraKeys['Ctrl-['] = 'leaveInsertOrEdit';\n",
        "all_cm( function (cm) {\n",
        "    cm.options.extraKeys['Ctrl-['] = 'leaveInsertOrEdit';\n",
        "    cm.options.extraKeys['Esc'] = 'leaveInsertOrEdit';\n",
        "    if ( CodeMirror.defaults.extraKeys === null ) { \n",
        "        CodeMirror.defaults.extraKeys = {};\n",
        "    }\n",
        "    // TODO: make this change permanent\n",
        "    // this part seems to be ignore when adding a new cell\n",
        "    // - alternative solution would be to listen for NewCell events and rerun the CM function on it\n",
        "    // - it could also be the case that when we instatiate CodeMirror, we somehow leave out CM.defaults.extraKeys\n",
        "    IPython.CodeCell.options_default.cm_config.extraKeys['Ctrl-['] = 'leaveInsertOrEdit';\n",
        "    IPython.TextCell.options_default.cm_config.extraKeys['Ctrl-['] = 'leaveInsertOrEdit';\n",
        "    IPython.CodeCell.options_default.cm_config.extraKeys['Esc'] = 'leaveInsertOrEdit';\n",
        "    IPython.TextCell.options_default.cm_config.extraKeys['Esc'] = 'leaveInsertOrEdit';\n",
        "})\n",
        "\n",
        "// On blur, make sure we go back to command mode for CodeMirror (in case user clicked away)\n",
        "// TODO: Make this permanent - how to get CodeMirror to do this for new cells created after\n",
        "all_cm( function (cm) {\n",
        "    cm.on('blur', function(cm) {\n",
        "        // TODO: I wish I understood a better way to do this, but fake pressing Escape work\n",
        "        CodeMirror.keyMap['vim-insert']['Esc'](cm);\n",
        "        CodeMirror.keyMap['vim']['Esc'](cm);\n",
        "        cm.setOption('styleActiveLine', false);\n",
        "        if (cm.getOption(\"fullScreen\")) {\n",
        "            cm.setOption('fullScreen', false); \n",
        "            // fullScreen the newly selected code mirror (doesn't work)\n",
        "            //setTimeout(100, function() {\n",
        "            //    console.log(IPython.notebook.get_selected_cell().code_mirror);\n",
        "            //    IPython.notebook.get_selected_cell().code_mirror.setOption('fullScreen', true); \n",
        "            //});\n",
        "        }\n",
        "    });\n",
        "    cm.on('focus', function(cm) {\n",
        "        cm.setOption('styleActiveLine', true);\n",
        "    });\n",
        "});\n",
        "\n",
        "// 'i' by default interrupts the kernel (what Ctrl-C does at the terminal)\n",
        "cmd.remove_shortcut('i');\n",
        "cmd.add_shortcut('i', def_cmd.enter);\n",
        "\n",
        "// not quite what we want - 'i' requires a double-tap\n",
        "// add documentation for this.\n",
        "cmd.add_shortcut('ctrl-c', function(e) { IPython.notebook.kernel.interrupt(); return false});\n",
        "\n",
        "\n",
        "function focus_last(e) {\n",
        "    var cells = IPython.notebook.get_cells();\n",
        "    cells[cells.length-1].focus_cell();\n",
        "};\n",
        "\n",
        "function focus_first(e) {\n",
        "    var cells = IPython.notebook.get_cells();\n",
        "    cells[0].focus_cell();\n",
        "};\n",
        "\n",
        "function combo_tap(combo, action) {\n",
        "    var that = this;\n",
        "    var timeout;\n",
        "    function f() {\n",
        "        console.log('f called once');\n",
        "        \n",
        "        // redo this so that when an action is performed, we restore the original combo\n",
        "        cmd.add_shortcut(combo[1], \n",
        "                function() { console.log(\"doing action\", combo); reset(); action(); timeout.clear();} );\n",
        "        timeout = setTimeout(function () {\n",
        "            console.log('resetting f');\n",
        "            reset();\n",
        "            //cmd.add_shortcut(combo[0], reset)\n",
        "        }, 800);\n",
        "    }\n",
        "    function reset(e) {\n",
        "        //cmd.remove_shortcut(combo[0]);\n",
        "        console.log('reset called');\n",
        "        //if (timeout) {\n",
        "        //    console.log('resetting aborted');\n",
        "        //    clearTimeout(timeout);\n",
        "        //    timeout = null;\n",
        "        //}\n",
        "        //that(combo, action); \n",
        "        cmd.add_shortcut(combo[0], f);\n",
        "    }\n",
        "    console.log(\"combo tap for\", combo);\n",
        "    \n",
        "    reset();\n",
        "};\n",
        "cmd.add_shortcut('shift-g', focus_last);\n",
        "combo_tap('gg', focus_first);\n",
        "\n",
        "// XXX: the way combo tap is currently implemented, this won't work\n",
        "// need a more generic mechanism for combo-taps with common prefixes\n",
        "// combo_tap('gq', f();\n",
        "//cmd.remove_shortcut('d');\n",
        "// cut\n",
        "combo_tap('dd', def_cmd['x'].handler);\n",
        "\n",
        "// copy\n",
        "combo_tap('yy', def_cmd['c'].handler);\n",
        "\n",
        "// paste\n",
        "cmd.add_shortcut('p', def_cmd['v']);\n",
        "\n",
        "// undo\n",
        "cmd.add_shortcut('u', def_cmd['z']);\n",
        "\n",
        "// Join (merge down with cell below)\n",
        "cmd.add_shortcut('shift-j', def_cmd['shift-m'])\n",
        "\n",
        "//edit.add_shortcut('k', def_edit['up'].handler);\n",
        "//[edit.add_shortcut('j', def_edit['down'].handler);\n",
        "\n",
        "CodeMirror.prototype.save = function() { \n",
        "    IPython.notebook.save_checkpoint()\n",
        "}\n",
        "\n",
        "function focus_last(e) {\n",
        "    var cells = IPython.notebook.get_cells();\n",
        "    cells[cells.length-1].focus_cell();\n",
        "};\n",
        "\n",
        "function focus_first(e) {\n",
        "    console.log('focus first called');\n",
        "    var cells = IPython.notebook.get_cells();\n",
        "    cells[0].focus_cell();\n",
        "};\n",
        "\n",
        "\n",
        "cmd.add_shortcut('shift-g', focus_last);\n",
        "combo_tap('gg', focus_first);\n",
        "\n",
        "// get rid of the default Ctrl-W binding\n",
        "// this only works for Firefox\n",
        "$(document).ready(function() {\n",
        "\t$(this).bind('keypress', function(e) {\n",
        "\t\tvar key = (e.keyCode ? e.keyCode : e.charCode);\n",
        "\t\tif (key == '119' && e.ctrlKey) {\n",
        "\t\t\treturn false;\n",
        "\t\t}\n",
        "\t});\n",
        "});\n",
        "\n",
        "window.addEventListener(\"beforeunload\", function( event ) {\n",
        "    var press = jQuery.Event(\"keypress\");\n",
        "    press.ctrlKey = false;\n",
        "    press.which = 27; // escape\n",
        "    $(document).trigger(press);\n",
        "    event.returnValue = \"\\nXXXXXXXXXXXXXXXXXXXXXXXXXXXXXXXXXXXXXXXXXXXXXX\";\n",
        "    event.returnValue +=\"\\nX  Chrome sucks at captruring Ctrl-W, sorry  X\";\n",
        "    event.returnValue += \"\\nXXXXXXXXXXXXXXXXXXXXXXXXXXXXXXXXXXXXXXXXXXXXXX\";\n",
        "});\n",
        "\n",
        "// update the keyboard shortcuts\n",
        "IPython.quick_help = new IPython.QuickHelp();\n",
        "\n",
        "//IPython.CodeCell.options_default.cm_config.styleActiveLine = true;\n",
        "\n",
        "all_cm( function (cm) {\n",
        "    cm.setOption('foldGutter', true);\n",
        "    cm.setOption('gutters',  [\"CodeMirror-linenumbers\", \"CodeMirror-foldgutter\"]);\n",
        "    cm.options.extraKeys[\"Ctrl-F\"] = function(cm){ cm.foldCode(cm.getCursor()); };\n",
        "    var wrapOptions = {column: 78, killTrailingSpace: true, wrapOn: /\\s\\S|[^\\.\\d]/ };\n",
        "    // XXX: add a hardwrap-range to this as well\n",
        "    cm.options.extraKeys[\"F2\"] =  function(cm) { cm.wrapParagraph(cm.getCursor(), wrapOptions); };\n",
        "    //cm.options.extraKeys[\"[\"] =  function(cm) { cm.setOption(\"fullScreen\", !cm.getOption(\"fullScreen\"))};\n",
        "    IPython.CodeCell.options_default.cm_config.extraKeys['Ctrl-F'] = function(cm){ cm.foldCode(cm.getCursor()); };\n",
        "    IPython.TextCell.options_default.cm_config.extraKeys['Ctrl-F'] = function(cm){ cm.foldCode(cm.getCursor()); };\n",
        "\n",
        "    // todo - do this for new cells as well\n",
        "    // support this a :only? turn off full screen on blur\n",
        "    cm.options.extraKeys[\"F11\"] =  function(cm) { cm.setOption(\"fullScreen\", !cm.getOption(\"fullScreen\"))};\n",
        "    cm.options.extraKeys[\"Ctrl-A\"] =  function(cm) {\n",
        "          if (cm.getOption(\"fullScreen\")) cm.setOption(\"fullScreen\", false);\n",
        "        };\n",
        "    //all_cm( function (cm) {\n",
        "});\n",
        "\n",
        "//setTimeout(function() {IPython.notebook.get_selected_cell().set_input_prompt('vim');}, 200)\n",
        "\n",
        "$(\"#ipython_notebook\").find('img').remove('#vim');\n",
        "$(\"#ipython_notebook\").append('<img id=\"vim\" src=\"http://www.vim.org/images/vim_on_fire.gif\"'\n",
        "        // XXX: add it to the distribution\n",
        "        // /static/custom/vim_on_fire.gif\" \n",
        "    + ' style=\"'\n",
        "    + 'position: absolute; left: 51px; top: -10px; height: initial;\">')\n",
        "$(\"#vim\").click( function () {$(this).hide()});\n",
        "\n",
        "\n",
        "// XXX: Autowrapping is kind of broken - you can write a line that will have\n",
        "// its last word (if it's 1 or 2 characters just go back and forth between the\n",
        "// current and the next lines)\n",
        "//all_cm(function (cm) {\n",
        "//    var wait, options = {column: 78, killTrailingSpace: true, wrapOn: /\\s\\S|[^\\.\\d]/};\n",
        "//    cm.on(\"change\", function(cm, change) {\n",
        "//      clearTimeout(wait);\n",
        "//      wait = setTimeout(function() {\n",
        "//        console.log(cm.wrapParagraphsInRange(change.from, CodeMirror.changeEnd(change), options));\n",
        "//      }, 300);\n",
        "//    });\n",
        "//});\n",
        "\n",
        "}, function  failure() { \n",
        "    alert('le sucks, something went wrong');\n",
        "\n",
        "});\n",
        "\n",
        "\n",
        "// at_top  and at_bottom methods for ipython-vimception\n",
        "    /**\n",
        "     * @method at_top\n",
        "     * @return {Boolean}\n",
        "     */\n",
        "    Cell.prototype.at_top = function () {\n",
        "        var cm = this.code_mirror;\n",
        "        var cursor = cm.getCursor();\n",
        "        if (cursor.line === 0 && cm.findPosV(cursor, -1, 'line').hitSide) {\n",
        "            return true;\n",
        "        } else {\n",
        "            return false;\n",
        "        }\n",
        "    };\n",
        "\n",
        "    /**\n",
        "     * @method at_bottom\n",
        "     * @return {Boolean}\n",
        "     * */\n",
        "    Cell.prototype.at_bottom = function () {\n",
        "        var cm = this.code_mirror;\n",
        "        var cursor = cm.getCursor();\n",
        "        if (cursor.line === (cm.lineCount()-1) && cm.findPosV(cursor, 1, 'line').hitSide) {\n",
        "            return true;\n",
        "        } else {\n",
        "            return false;\n",
        "        }\n",
        "    };\n"
       ],
       "metadata": {},
       "output_type": "display_data",
       "text": [
        "<IPython.core.display.Javascript at 0x7fa3bc0bb650>"
       ]
      },
      {
       "javascript": [
        "\n",
        "var cmd = IPython.keyboard_manager.command_shortcuts;\n",
        "var edit = IPython.keyboard_manager.edit_shortcuts;\n",
        "var def_cmd = IPython.default_command_shortcuts;\n",
        "var def_edit = IPython.default_edit_shortcuts;\n",
        "\n",
        "// get the code mirror editor of a curently selected cell\n",
        "function C() { return IPython.notebook.get_selected_cell().code_mirror; };\n",
        "\n",
        "// Change the mode of all current and future CodeMirror instances\n",
        "// Emacs users can use this function as just to('emacs') so long as they've\n",
        "// required/loaded emacs.js from CodeMirror\n",
        "function to(mode) {\n",
        "    var mode = mode || 'vim'\n",
        "    // first let's apply vim mode to all current cells\n",
        "    function to_mode(c) { return c.code_mirror.setOption('keyMap', mode);};\n",
        "    IPython.notebook.get_cells().map(to_mode);\n",
        "    // apply the mode to future cells created\n",
        "    IPython.Cell.options_default.cm_config.keyMap = mode;\n",
        "}\n",
        "\n",
        "function getCSS(path) {\n",
        "    $('<link/>', {\n",
        "       rel: 'stylesheet',\n",
        "       type: 'text/css',\n",
        "       href: path,\n",
        "    }).appendTo('head');\n",
        "}\n",
        "\n",
        "// I messed around with trying to get requireJS going here, but gave up and\n",
        "// just using this answer from SO \n",
        "// http://stackoverflow.com/questions/11803215/how-to-include-multiple-js-files-using-jquery-getscript-method\n",
        "\n",
        "var p = \"/static/components/codemirror/addon/\";\n",
        "\n",
        "$.when(\n",
        "// Grab the CodeMirror vim keymap\n",
        "$.getScript(p + \"../keymap/vim.js\"),\n",
        "// also make search work via /\n",
        "$.getScript(p + \"search/search.js\"),\n",
        "$.getScript(p + \"search/searchcursor.js\"),\n",
        "\n",
        "// TODO: hook-up gq to perform a harwrap\n",
        "$.getScript(p + \"wrap/hardwrap.js\"),\n",
        "$.getScript(p + \"selection/active-line.js\"),\n",
        "\n",
        "$.getScript(p + \"display/fullscreen.js\"),\n",
        "getCSS(p + \"display/fullscreen.css\"),\n",
        "getCSS(p + \"dialog/dialog.css\"),\n",
        "$.getScript(p + \"dialog/dialog.js\"),\n",
        "\n",
        "\n",
        "    $.Deferred(function( deferred ){\n",
        "        $( deferred.resolve );\n",
        "    })\n",
        ").then(function success(){\n",
        "\n",
        "console.log('Great success');\n",
        "\n",
        "IPython.CodeCell.options_default.cm_config.foldGutter = true;\n",
        "IPython.CodeCell.options_default.cm_config.gutters =  [\"CodeMirror-linenumbers\", \"CodeMirror-foldgutter\"];\n",
        "\n",
        "IPython.Cell.prototype.at_top = function () {\n",
        "        var cm = this.code_mirror;\n",
        "        var cursor = cm.getCursor();\n",
        "        if (cursor.line === 0) {\n",
        "            return true;\n",
        "        }\n",
        "        return false;\n",
        "    };\n",
        "\n",
        "\n",
        "IPython.Cell.prototype.at_bottom = function () {\n",
        "    var cm = this.code_mirror;\n",
        "    var cursor = cm.getCursor();\n",
        "    if (cursor.line === (cm.lineCount()-1)) {\n",
        "        return true;\n",
        "    }\n",
        "    return false;\n",
        "};\n",
        "// on all code mirror instances on this page, apply the function f\n",
        "function all_cm(f) {\n",
        "    // apply f to every code mirror instance. f takes one parameter\n",
        "    IPython.notebook.get_cells().map(function (c) { f(c.code_mirror); } );\n",
        "}\n",
        "\n",
        "\n",
        "to('vim');\n",
        "function vim_up(event) {\n",
        "    var cell = IPython.notebook.get_selected_cell();\n",
        "    if (cell && cell.at_top() && cell.code_mirror.options.keyMap === 'vim') {\n",
        "        console.log('inside the business logic k');\n",
        "        event.preventDefault();\n",
        "        IPython.notebook.command_mode()\n",
        "        IPython.notebook.select_prev();\n",
        "        IPython.notebook.edit_mode();\n",
        "        return false;\n",
        "    };\n",
        "}\n",
        "\n",
        "function vim_down(event) {\n",
        "            var cell = IPython.notebook.get_selected_cell();\n",
        "            if (cell && cell.at_bottom() && cell.code_mirror.options.keyMap === 'vim') {\n",
        "                event.preventDefault();\n",
        "                IPython.notebook.command_mode()\n",
        "                IPython.notebook.select_next();\n",
        "                IPython.notebook.edit_mode();\n",
        "                return false;\n",
        "            };\n",
        "        }\n",
        "\n",
        "var m = '(vim) '\n",
        "var edit_shortcuts = {\n",
        "    'k' : {\n",
        "        help    : m + 'up a line, even across cells',\n",
        "        help_index : 'AA',\n",
        "        handler : vim_up\n",
        "    },\n",
        "    'j' : {\n",
        "        help    : m + 'down a line, even across cells',\n",
        "        help_index : 'AA',\n",
        "        handler : vim_down\n",
        "    },\n",
        "\n",
        "};\n",
        "\n",
        "var command_shortcuts = {\n",
        "    'c' :  {\n",
        "        help    : m + def_cmd['y'].help,\n",
        "        help_index : 'AA',\n",
        "        handler : def_cmd['y'].handler\n",
        "    }\n",
        "\n",
        "\n",
        "};\n",
        "\n",
        "edit.add_shortcuts(edit_shortcuts);\n",
        "cmd.add_shortcuts(command_shortcuts);\n",
        "//edit.add_shortcuts('k', def_edit['up'].handler);\n",
        "//edit.add_shortcut('j', def_edit['down'].handler);\n",
        "\n",
        "// N.B. This code looks fairly simple, but it took me forever to \n",
        "// figure out how to do this, \n",
        "// \n",
        "// there's a problem here, Ctrl-[ is already handled by CodeMirror by the time we \n",
        "// (IPython.keyboard_manager) get it CodeMirror issues signals on mode change, \n",
        "// so we have to hook into that to get Ctrl-[\n",
        "edit.remove_shortcut('Ctrl-[');\n",
        "edit.remove_shortcut('Esc');\n",
        "\n",
        "CodeMirror.commands.leaveInsertOrEdit = function (cm) {\n",
        "    if ( cm.state.vim.insertMode ) {\n",
        "        // do magic here to get out of insert mode\n",
        "        CodeMirror.keyMap['vim-insert']['Esc'](cm);\n",
        "    } else {\n",
        "        IPython.notebook.command_mode();\n",
        "        IPython.notebook.focus_cell();\n",
        "    }\n",
        "};\n",
        "        \n",
        "//C().options.extraKeys['Ctrl-['] = 'leaveInsertOrEdit';\n",
        "all_cm( function (cm) {\n",
        "    cm.options.extraKeys['Ctrl-['] = 'leaveInsertOrEdit';\n",
        "    cm.options.extraKeys['Esc'] = 'leaveInsertOrEdit';\n",
        "    if ( CodeMirror.defaults.extraKeys === null ) { \n",
        "        CodeMirror.defaults.extraKeys = {};\n",
        "    }\n",
        "    // TODO: make this change permanent\n",
        "    // this part seems to be ignore when adding a new cell\n",
        "    // - alternative solution would be to listen for NewCell events and rerun the CM function on it\n",
        "    // - it could also be the case that when we instatiate CodeMirror, we somehow leave out CM.defaults.extraKeys\n",
        "    IPython.CodeCell.options_default.cm_config.extraKeys['Ctrl-['] = 'leaveInsertOrEdit';\n",
        "    IPython.TextCell.options_default.cm_config.extraKeys['Ctrl-['] = 'leaveInsertOrEdit';\n",
        "    IPython.CodeCell.options_default.cm_config.extraKeys['Esc'] = 'leaveInsertOrEdit';\n",
        "    IPython.TextCell.options_default.cm_config.extraKeys['Esc'] = 'leaveInsertOrEdit';\n",
        "})\n",
        "\n",
        "// On blur, make sure we go back to command mode for CodeMirror (in case user clicked away)\n",
        "// TODO: Make this permanent - how to get CodeMirror to do this for new cells created after\n",
        "all_cm( function (cm) {\n",
        "    cm.on('blur', function(cm) {\n",
        "        // TODO: I wish I understood a better way to do this, but fake pressing Escape work\n",
        "        CodeMirror.keyMap['vim-insert']['Esc'](cm);\n",
        "        CodeMirror.keyMap['vim']['Esc'](cm);\n",
        "        cm.setOption('styleActiveLine', false);\n",
        "        if (cm.getOption(\"fullScreen\")) {\n",
        "            cm.setOption('fullScreen', false); \n",
        "            // fullScreen the newly selected code mirror (doesn't work)\n",
        "            //setTimeout(100, function() {\n",
        "            //    console.log(IPython.notebook.get_selected_cell().code_mirror);\n",
        "            //    IPython.notebook.get_selected_cell().code_mirror.setOption('fullScreen', true); \n",
        "            //});\n",
        "        }\n",
        "    });\n",
        "    cm.on('focus', function(cm) {\n",
        "        cm.setOption('styleActiveLine', true);\n",
        "    });\n",
        "});\n",
        "\n",
        "// 'i' by default interrupts the kernel (what Ctrl-C does at the terminal)\n",
        "cmd.remove_shortcut('i');\n",
        "cmd.add_shortcut('i', def_cmd.enter);\n",
        "\n",
        "// not quite what we want - 'i' requires a double-tap\n",
        "// add documentation for this.\n",
        "cmd.add_shortcut('ctrl-c', function(e) { IPython.notebook.kernel.interrupt(); return false});\n",
        "\n",
        "\n",
        "function focus_last(e) {\n",
        "    var cells = IPython.notebook.get_cells();\n",
        "    cells[cells.length-1].focus_cell();\n",
        "};\n",
        "\n",
        "function focus_first(e) {\n",
        "    var cells = IPython.notebook.get_cells();\n",
        "    cells[0].focus_cell();\n",
        "};\n",
        "\n",
        "function combo_tap(combo, action) {\n",
        "    var that = this;\n",
        "    var timeout;\n",
        "    function f() {\n",
        "        console.log('f called once');\n",
        "        \n",
        "        // redo this so that when an action is performed, we restore the original combo\n",
        "        cmd.add_shortcut(combo[1], \n",
        "                function() { console.log(\"doing action\", combo); reset(); action(); timeout.clear();} );\n",
        "        timeout = setTimeout(function () {\n",
        "            console.log('resetting f');\n",
        "            reset();\n",
        "            //cmd.add_shortcut(combo[0], reset)\n",
        "        }, 800);\n",
        "    }\n",
        "    function reset(e) {\n",
        "        //cmd.remove_shortcut(combo[0]);\n",
        "        console.log('reset called');\n",
        "        //if (timeout) {\n",
        "        //    console.log('resetting aborted');\n",
        "        //    clearTimeout(timeout);\n",
        "        //    timeout = null;\n",
        "        //}\n",
        "        //that(combo, action); \n",
        "        cmd.add_shortcut(combo[0], f);\n",
        "    }\n",
        "    console.log(\"combo tap for\", combo);\n",
        "    \n",
        "    reset();\n",
        "};\n",
        "cmd.add_shortcut('shift-g', focus_last);\n",
        "combo_tap('gg', focus_first);\n",
        "\n",
        "// XXX: the way combo tap is currently implemented, this won't work\n",
        "// need a more generic mechanism for combo-taps with common prefixes\n",
        "// combo_tap('gq', f();\n",
        "//cmd.remove_shortcut('d');\n",
        "// cut\n",
        "combo_tap('dd', def_cmd['x'].handler);\n",
        "\n",
        "// copy\n",
        "combo_tap('yy', def_cmd['c'].handler);\n",
        "\n",
        "// paste\n",
        "cmd.add_shortcut('p', def_cmd['v']);\n",
        "\n",
        "// undo\n",
        "cmd.add_shortcut('u', def_cmd['z']);\n",
        "\n",
        "// Join (merge down with cell below)\n",
        "cmd.add_shortcut('shift-j', def_cmd['shift-m'])\n",
        "\n",
        "//edit.add_shortcut('k', def_edit['up'].handler);\n",
        "//[edit.add_shortcut('j', def_edit['down'].handler);\n",
        "\n",
        "CodeMirror.prototype.save = function() { \n",
        "    IPython.notebook.save_checkpoint()\n",
        "}\n",
        "\n",
        "function focus_last(e) {\n",
        "    var cells = IPython.notebook.get_cells();\n",
        "    cells[cells.length-1].focus_cell();\n",
        "};\n",
        "\n",
        "function focus_first(e) {\n",
        "    console.log('focus first called');\n",
        "    var cells = IPython.notebook.get_cells();\n",
        "    cells[0].focus_cell();\n",
        "};\n",
        "\n",
        "\n",
        "cmd.add_shortcut('shift-g', focus_last);\n",
        "combo_tap('gg', focus_first);\n",
        "\n",
        "// get rid of the default Ctrl-W binding\n",
        "// this only works for Firefox\n",
        "$(document).ready(function() {\n",
        "\t$(this).bind('keypress', function(e) {\n",
        "\t\tvar key = (e.keyCode ? e.keyCode : e.charCode);\n",
        "\t\tif (key == '119' && e.ctrlKey) {\n",
        "\t\t\treturn false;\n",
        "\t\t}\n",
        "\t});\n",
        "});\n",
        "\n",
        "window.addEventListener(\"beforeunload\", function( event ) {\n",
        "    var press = jQuery.Event(\"keypress\");\n",
        "    press.ctrlKey = false;\n",
        "    press.which = 27; // escape\n",
        "    $(document).trigger(press);\n",
        "    event.returnValue = \"\\nXXXXXXXXXXXXXXXXXXXXXXXXXXXXXXXXXXXXXXXXXXXXXX\";\n",
        "    event.returnValue +=\"\\nX  Chrome sucks at captruring Ctrl-W, sorry  X\";\n",
        "    event.returnValue += \"\\nXXXXXXXXXXXXXXXXXXXXXXXXXXXXXXXXXXXXXXXXXXXXXX\";\n",
        "});\n",
        "\n",
        "// update the keyboard shortcuts\n",
        "IPython.quick_help = new IPython.QuickHelp();\n",
        "\n",
        "//IPython.CodeCell.options_default.cm_config.styleActiveLine = true;\n",
        "\n",
        "all_cm( function (cm) {\n",
        "    cm.setOption('foldGutter', true);\n",
        "    cm.setOption('gutters',  [\"CodeMirror-linenumbers\", \"CodeMirror-foldgutter\"]);\n",
        "    cm.options.extraKeys[\"Ctrl-F\"] = function(cm){ cm.foldCode(cm.getCursor()); };\n",
        "    var wrapOptions = {column: 78, killTrailingSpace: true, wrapOn: /\\s\\S|[^\\.\\d]/ };\n",
        "    // XXX: add a hardwrap-range to this as well\n",
        "    cm.options.extraKeys[\"F2\"] =  function(cm) { cm.wrapParagraph(cm.getCursor(), wrapOptions); };\n",
        "    //cm.options.extraKeys[\"[\"] =  function(cm) { cm.setOption(\"fullScreen\", !cm.getOption(\"fullScreen\"))};\n",
        "    IPython.CodeCell.options_default.cm_config.extraKeys['Ctrl-F'] = function(cm){ cm.foldCode(cm.getCursor()); };\n",
        "    IPython.TextCell.options_default.cm_config.extraKeys['Ctrl-F'] = function(cm){ cm.foldCode(cm.getCursor()); };\n",
        "\n",
        "    // todo - do this for new cells as well\n",
        "    // support this a :only? turn off full screen on blur\n",
        "    cm.options.extraKeys[\"F11\"] =  function(cm) { cm.setOption(\"fullScreen\", !cm.getOption(\"fullScreen\"))};\n",
        "    cm.options.extraKeys[\"Ctrl-A\"] =  function(cm) {\n",
        "          if (cm.getOption(\"fullScreen\")) cm.setOption(\"fullScreen\", false);\n",
        "        };\n",
        "    //all_cm( function (cm) {\n",
        "});\n",
        "\n",
        "//setTimeout(function() {IPython.notebook.get_selected_cell().set_input_prompt('vim');}, 200)\n",
        "\n",
        "$(\"#ipython_notebook\").find('img').remove('#vim');\n",
        "$(\"#ipython_notebook\").append('<img id=\"vim\" src=\"http://www.vim.org/images/vim_on_fire.gif\"'\n",
        "        // XXX: add it to the distribution\n",
        "        // /static/custom/vim_on_fire.gif\" \n",
        "    + ' style=\"'\n",
        "    + 'position: absolute; left: 51px; top: -10px; height: initial;\">')\n",
        "$(\"#vim\").click( function () {$(this).hide()});\n",
        "\n",
        "\n",
        "// XXX: Autowrapping is kind of broken - you can write a line that will have\n",
        "// its last word (if it's 1 or 2 characters just go back and forth between the\n",
        "// current and the next lines)\n",
        "//all_cm(function (cm) {\n",
        "//    var wait, options = {column: 78, killTrailingSpace: true, wrapOn: /\\s\\S|[^\\.\\d]/};\n",
        "//    cm.on(\"change\", function(cm, change) {\n",
        "//      clearTimeout(wait);\n",
        "//      wait = setTimeout(function() {\n",
        "//        console.log(cm.wrapParagraphsInRange(change.from, CodeMirror.changeEnd(change), options));\n",
        "//      }, 300);\n",
        "//    });\n",
        "//});\n",
        "\n",
        "}, function  failure() { \n",
        "    alert('le sucks, something went wrong');\n",
        "\n",
        "});\n",
        "\n",
        "\n",
        "// at_top  and at_bottom methods for ipython-vimception\n",
        "    /**\n",
        "     * @method at_top\n",
        "     * @return {Boolean}\n",
        "     */\n",
        "    Cell.prototype.at_top = function () {\n",
        "        var cm = this.code_mirror;\n",
        "        var cursor = cm.getCursor();\n",
        "        if (cursor.line === 0 && cm.findPosV(cursor, -1, 'line').hitSide) {\n",
        "            return true;\n",
        "        } else {\n",
        "            return false;\n",
        "        }\n",
        "    };\n",
        "\n",
        "    /**\n",
        "     * @method at_bottom\n",
        "     * @return {Boolean}\n",
        "     * */\n",
        "    Cell.prototype.at_bottom = function () {\n",
        "        var cm = this.code_mirror;\n",
        "        var cursor = cm.getCursor();\n",
        "        if (cursor.line === (cm.lineCount()-1) && cm.findPosV(cursor, 1, 'line').hitSide) {\n",
        "            return true;\n",
        "        } else {\n",
        "            return false;\n",
        "        }\n",
        "    };\n"
       ],
       "metadata": {},
       "output_type": "display_data",
       "text": [
        "<IPython.core.display.Javascript at 0x7fa3bc0bb2d0>"
       ]
      },
      {
       "javascript": [
        "\n",
        "var cmd = IPython.keyboard_manager.command_shortcuts;\n",
        "var edit = IPython.keyboard_manager.edit_shortcuts;\n",
        "var def_cmd = IPython.default_command_shortcuts;\n",
        "var def_edit = IPython.default_edit_shortcuts;\n",
        "\n",
        "// get the code mirror editor of a curently selected cell\n",
        "function C() { return IPython.notebook.get_selected_cell().code_mirror; };\n",
        "\n",
        "// Change the mode of all current and future CodeMirror instances\n",
        "// Emacs users can use this function as just to('emacs') so long as they've\n",
        "// required/loaded emacs.js from CodeMirror\n",
        "function to(mode) {\n",
        "    var mode = mode || 'vim'\n",
        "    // first let's apply vim mode to all current cells\n",
        "    function to_mode(c) { return c.code_mirror.setOption('keyMap', mode);};\n",
        "    IPython.notebook.get_cells().map(to_mode);\n",
        "    // apply the mode to future cells created\n",
        "    IPython.Cell.options_default.cm_config.keyMap = mode;\n",
        "}\n",
        "\n",
        "function getCSS(path) {\n",
        "    $('<link/>', {\n",
        "       rel: 'stylesheet',\n",
        "       type: 'text/css',\n",
        "       href: path,\n",
        "    }).appendTo('head');\n",
        "}\n",
        "\n",
        "// I messed around with trying to get requireJS going here, but gave up and\n",
        "// just using this answer from SO \n",
        "// http://stackoverflow.com/questions/11803215/how-to-include-multiple-js-files-using-jquery-getscript-method\n",
        "\n",
        "var p = \"/static/components/codemirror/addon/\";\n",
        "\n",
        "$.when(\n",
        "// Grab the CodeMirror vim keymap\n",
        "$.getScript(p + \"../keymap/vim.js\"),\n",
        "// also make search work via /\n",
        "$.getScript(p + \"search/search.js\"),\n",
        "$.getScript(p + \"search/searchcursor.js\"),\n",
        "\n",
        "// TODO: hook-up gq to perform a harwrap\n",
        "$.getScript(p + \"wrap/hardwrap.js\"),\n",
        "$.getScript(p + \"selection/active-line.js\"),\n",
        "\n",
        "$.getScript(p + \"display/fullscreen.js\"),\n",
        "getCSS(p + \"display/fullscreen.css\"),\n",
        "getCSS(p + \"dialog/dialog.css\"),\n",
        "$.getScript(p + \"dialog/dialog.js\"),\n",
        "\n",
        "\n",
        "    $.Deferred(function( deferred ){\n",
        "        $( deferred.resolve );\n",
        "    })\n",
        ").then(function success(){\n",
        "\n",
        "console.log('Great success');\n",
        "\n",
        "IPython.CodeCell.options_default.cm_config.foldGutter = true;\n",
        "IPython.CodeCell.options_default.cm_config.gutters =  [\"CodeMirror-linenumbers\", \"CodeMirror-foldgutter\"];\n",
        "\n",
        "IPython.Cell.prototype.at_top = function () {\n",
        "        var cm = this.code_mirror;\n",
        "        var cursor = cm.getCursor();\n",
        "        if (cursor.line === 0) {\n",
        "            return true;\n",
        "        }\n",
        "        return false;\n",
        "    };\n",
        "\n",
        "\n",
        "IPython.Cell.prototype.at_bottom = function () {\n",
        "    var cm = this.code_mirror;\n",
        "    var cursor = cm.getCursor();\n",
        "    if (cursor.line === (cm.lineCount()-1)) {\n",
        "        return true;\n",
        "    }\n",
        "    return false;\n",
        "};\n",
        "// on all code mirror instances on this page, apply the function f\n",
        "function all_cm(f) {\n",
        "    // apply f to every code mirror instance. f takes one parameter\n",
        "    IPython.notebook.get_cells().map(function (c) { f(c.code_mirror); } );\n",
        "}\n",
        "\n",
        "\n",
        "to('vim');\n",
        "function vim_up(event) {\n",
        "    var cell = IPython.notebook.get_selected_cell();\n",
        "    if (cell && cell.at_top() && cell.code_mirror.options.keyMap === 'vim') {\n",
        "        console.log('inside the business logic k');\n",
        "        event.preventDefault();\n",
        "        IPython.notebook.command_mode()\n",
        "        IPython.notebook.select_prev();\n",
        "        IPython.notebook.edit_mode();\n",
        "        return false;\n",
        "    };\n",
        "}\n",
        "\n",
        "function vim_down(event) {\n",
        "            var cell = IPython.notebook.get_selected_cell();\n",
        "            if (cell && cell.at_bottom() && cell.code_mirror.options.keyMap === 'vim') {\n",
        "                event.preventDefault();\n",
        "                IPython.notebook.command_mode()\n",
        "                IPython.notebook.select_next();\n",
        "                IPython.notebook.edit_mode();\n",
        "                return false;\n",
        "            };\n",
        "        }\n",
        "\n",
        "var m = '(vim) '\n",
        "var edit_shortcuts = {\n",
        "    'k' : {\n",
        "        help    : m + 'up a line, even across cells',\n",
        "        help_index : 'AA',\n",
        "        handler : vim_up\n",
        "    },\n",
        "    'j' : {\n",
        "        help    : m + 'down a line, even across cells',\n",
        "        help_index : 'AA',\n",
        "        handler : vim_down\n",
        "    },\n",
        "\n",
        "};\n",
        "\n",
        "var command_shortcuts = {\n",
        "    'c' :  {\n",
        "        help    : m + def_cmd['y'].help,\n",
        "        help_index : 'AA',\n",
        "        handler : def_cmd['y'].handler\n",
        "    }\n",
        "\n",
        "\n",
        "};\n",
        "\n",
        "edit.add_shortcuts(edit_shortcuts);\n",
        "cmd.add_shortcuts(command_shortcuts);\n",
        "//edit.add_shortcuts('k', def_edit['up'].handler);\n",
        "//edit.add_shortcut('j', def_edit['down'].handler);\n",
        "\n",
        "// N.B. This code looks fairly simple, but it took me forever to \n",
        "// figure out how to do this, \n",
        "// \n",
        "// there's a problem here, Ctrl-[ is already handled by CodeMirror by the time we \n",
        "// (IPython.keyboard_manager) get it CodeMirror issues signals on mode change, \n",
        "// so we have to hook into that to get Ctrl-[\n",
        "edit.remove_shortcut('Ctrl-[');\n",
        "edit.remove_shortcut('Esc');\n",
        "\n",
        "CodeMirror.commands.leaveInsertOrEdit = function (cm) {\n",
        "    if ( cm.state.vim.insertMode ) {\n",
        "        // do magic here to get out of insert mode\n",
        "        CodeMirror.keyMap['vim-insert']['Esc'](cm);\n",
        "    } else {\n",
        "        IPython.notebook.command_mode();\n",
        "        IPython.notebook.focus_cell();\n",
        "    }\n",
        "};\n",
        "        \n",
        "//C().options.extraKeys['Ctrl-['] = 'leaveInsertOrEdit';\n",
        "all_cm( function (cm) {\n",
        "    cm.options.extraKeys['Ctrl-['] = 'leaveInsertOrEdit';\n",
        "    cm.options.extraKeys['Esc'] = 'leaveInsertOrEdit';\n",
        "    if ( CodeMirror.defaults.extraKeys === null ) { \n",
        "        CodeMirror.defaults.extraKeys = {};\n",
        "    }\n",
        "    // TODO: make this change permanent\n",
        "    // this part seems to be ignore when adding a new cell\n",
        "    // - alternative solution would be to listen for NewCell events and rerun the CM function on it\n",
        "    // - it could also be the case that when we instatiate CodeMirror, we somehow leave out CM.defaults.extraKeys\n",
        "    IPython.CodeCell.options_default.cm_config.extraKeys['Ctrl-['] = 'leaveInsertOrEdit';\n",
        "    IPython.TextCell.options_default.cm_config.extraKeys['Ctrl-['] = 'leaveInsertOrEdit';\n",
        "    IPython.CodeCell.options_default.cm_config.extraKeys['Esc'] = 'leaveInsertOrEdit';\n",
        "    IPython.TextCell.options_default.cm_config.extraKeys['Esc'] = 'leaveInsertOrEdit';\n",
        "})\n",
        "\n",
        "// On blur, make sure we go back to command mode for CodeMirror (in case user clicked away)\n",
        "// TODO: Make this permanent - how to get CodeMirror to do this for new cells created after\n",
        "all_cm( function (cm) {\n",
        "    cm.on('blur', function(cm) {\n",
        "        // TODO: I wish I understood a better way to do this, but fake pressing Escape work\n",
        "        CodeMirror.keyMap['vim-insert']['Esc'](cm);\n",
        "        CodeMirror.keyMap['vim']['Esc'](cm);\n",
        "        cm.setOption('styleActiveLine', false);\n",
        "        if (cm.getOption(\"fullScreen\")) {\n",
        "            cm.setOption('fullScreen', false); \n",
        "            // fullScreen the newly selected code mirror (doesn't work)\n",
        "            //setTimeout(100, function() {\n",
        "            //    console.log(IPython.notebook.get_selected_cell().code_mirror);\n",
        "            //    IPython.notebook.get_selected_cell().code_mirror.setOption('fullScreen', true); \n",
        "            //});\n",
        "        }\n",
        "    });\n",
        "    cm.on('focus', function(cm) {\n",
        "        cm.setOption('styleActiveLine', true);\n",
        "    });\n",
        "});\n",
        "\n",
        "// 'i' by default interrupts the kernel (what Ctrl-C does at the terminal)\n",
        "cmd.remove_shortcut('i');\n",
        "cmd.add_shortcut('i', def_cmd.enter);\n",
        "\n",
        "// not quite what we want - 'i' requires a double-tap\n",
        "// add documentation for this.\n",
        "cmd.add_shortcut('ctrl-c', function(e) { IPython.notebook.kernel.interrupt(); return false});\n",
        "\n",
        "\n",
        "function focus_last(e) {\n",
        "    var cells = IPython.notebook.get_cells();\n",
        "    cells[cells.length-1].focus_cell();\n",
        "};\n",
        "\n",
        "function focus_first(e) {\n",
        "    var cells = IPython.notebook.get_cells();\n",
        "    cells[0].focus_cell();\n",
        "};\n",
        "\n",
        "function combo_tap(combo, action) {\n",
        "    var that = this;\n",
        "    var timeout;\n",
        "    function f() {\n",
        "        console.log('f called once');\n",
        "        \n",
        "        // redo this so that when an action is performed, we restore the original combo\n",
        "        cmd.add_shortcut(combo[1], \n",
        "                function() { console.log(\"doing action\", combo); reset(); action(); timeout.clear();} );\n",
        "        timeout = setTimeout(function () {\n",
        "            console.log('resetting f');\n",
        "            reset();\n",
        "            //cmd.add_shortcut(combo[0], reset)\n",
        "        }, 800);\n",
        "    }\n",
        "    function reset(e) {\n",
        "        //cmd.remove_shortcut(combo[0]);\n",
        "        console.log('reset called');\n",
        "        //if (timeout) {\n",
        "        //    console.log('resetting aborted');\n",
        "        //    clearTimeout(timeout);\n",
        "        //    timeout = null;\n",
        "        //}\n",
        "        //that(combo, action); \n",
        "        cmd.add_shortcut(combo[0], f);\n",
        "    }\n",
        "    console.log(\"combo tap for\", combo);\n",
        "    \n",
        "    reset();\n",
        "};\n",
        "cmd.add_shortcut('shift-g', focus_last);\n",
        "combo_tap('gg', focus_first);\n",
        "\n",
        "// XXX: the way combo tap is currently implemented, this won't work\n",
        "// need a more generic mechanism for combo-taps with common prefixes\n",
        "// combo_tap('gq', f();\n",
        "//cmd.remove_shortcut('d');\n",
        "// cut\n",
        "combo_tap('dd', def_cmd['x'].handler);\n",
        "\n",
        "// copy\n",
        "combo_tap('yy', def_cmd['c'].handler);\n",
        "\n",
        "// paste\n",
        "cmd.add_shortcut('p', def_cmd['v']);\n",
        "\n",
        "// undo\n",
        "cmd.add_shortcut('u', def_cmd['z']);\n",
        "\n",
        "// Join (merge down with cell below)\n",
        "cmd.add_shortcut('shift-j', def_cmd['shift-m'])\n",
        "\n",
        "//edit.add_shortcut('k', def_edit['up'].handler);\n",
        "//[edit.add_shortcut('j', def_edit['down'].handler);\n",
        "\n",
        "CodeMirror.prototype.save = function() { \n",
        "    IPython.notebook.save_checkpoint()\n",
        "}\n",
        "\n",
        "function focus_last(e) {\n",
        "    var cells = IPython.notebook.get_cells();\n",
        "    cells[cells.length-1].focus_cell();\n",
        "};\n",
        "\n",
        "function focus_first(e) {\n",
        "    console.log('focus first called');\n",
        "    var cells = IPython.notebook.get_cells();\n",
        "    cells[0].focus_cell();\n",
        "};\n",
        "\n",
        "\n",
        "cmd.add_shortcut('shift-g', focus_last);\n",
        "combo_tap('gg', focus_first);\n",
        "\n",
        "// get rid of the default Ctrl-W binding\n",
        "// this only works for Firefox\n",
        "$(document).ready(function() {\n",
        "\t$(this).bind('keypress', function(e) {\n",
        "\t\tvar key = (e.keyCode ? e.keyCode : e.charCode);\n",
        "\t\tif (key == '119' && e.ctrlKey) {\n",
        "\t\t\treturn false;\n",
        "\t\t}\n",
        "\t});\n",
        "});\n",
        "\n",
        "window.addEventListener(\"beforeunload\", function( event ) {\n",
        "    var press = jQuery.Event(\"keypress\");\n",
        "    press.ctrlKey = false;\n",
        "    press.which = 27; // escape\n",
        "    $(document).trigger(press);\n",
        "    event.returnValue = \"\\nXXXXXXXXXXXXXXXXXXXXXXXXXXXXXXXXXXXXXXXXXXXXXX\";\n",
        "    event.returnValue +=\"\\nX  Chrome sucks at captruring Ctrl-W, sorry  X\";\n",
        "    event.returnValue += \"\\nXXXXXXXXXXXXXXXXXXXXXXXXXXXXXXXXXXXXXXXXXXXXXX\";\n",
        "});\n",
        "\n",
        "// update the keyboard shortcuts\n",
        "IPython.quick_help = new IPython.QuickHelp();\n",
        "\n",
        "//IPython.CodeCell.options_default.cm_config.styleActiveLine = true;\n",
        "\n",
        "all_cm( function (cm) {\n",
        "    cm.setOption('foldGutter', true);\n",
        "    cm.setOption('gutters',  [\"CodeMirror-linenumbers\", \"CodeMirror-foldgutter\"]);\n",
        "    cm.options.extraKeys[\"Ctrl-F\"] = function(cm){ cm.foldCode(cm.getCursor()); };\n",
        "    var wrapOptions = {column: 78, killTrailingSpace: true, wrapOn: /\\s\\S|[^\\.\\d]/ };\n",
        "    // XXX: add a hardwrap-range to this as well\n",
        "    cm.options.extraKeys[\"F2\"] =  function(cm) { cm.wrapParagraph(cm.getCursor(), wrapOptions); };\n",
        "    //cm.options.extraKeys[\"[\"] =  function(cm) { cm.setOption(\"fullScreen\", !cm.getOption(\"fullScreen\"))};\n",
        "    IPython.CodeCell.options_default.cm_config.extraKeys['Ctrl-F'] = function(cm){ cm.foldCode(cm.getCursor()); };\n",
        "    IPython.TextCell.options_default.cm_config.extraKeys['Ctrl-F'] = function(cm){ cm.foldCode(cm.getCursor()); };\n",
        "\n",
        "    // todo - do this for new cells as well\n",
        "    // support this a :only? turn off full screen on blur\n",
        "    cm.options.extraKeys[\"F11\"] =  function(cm) { cm.setOption(\"fullScreen\", !cm.getOption(\"fullScreen\"))};\n",
        "    cm.options.extraKeys[\"Ctrl-A\"] =  function(cm) {\n",
        "          if (cm.getOption(\"fullScreen\")) cm.setOption(\"fullScreen\", false);\n",
        "        };\n",
        "    //all_cm( function (cm) {\n",
        "});\n",
        "\n",
        "//setTimeout(function() {IPython.notebook.get_selected_cell().set_input_prompt('vim');}, 200)\n",
        "\n",
        "$(\"#ipython_notebook\").find('img').remove('#vim');\n",
        "$(\"#ipython_notebook\").append('<img id=\"vim\" src=\"http://www.vim.org/images/vim_on_fire.gif\"'\n",
        "        // XXX: add it to the distribution\n",
        "        // /static/custom/vim_on_fire.gif\" \n",
        "    + ' style=\"'\n",
        "    + 'position: absolute; left: 51px; top: -10px; height: initial;\">')\n",
        "$(\"#vim\").click( function () {$(this).hide()});\n",
        "\n",
        "\n",
        "// XXX: Autowrapping is kind of broken - you can write a line that will have\n",
        "// its last word (if it's 1 or 2 characters just go back and forth between the\n",
        "// current and the next lines)\n",
        "//all_cm(function (cm) {\n",
        "//    var wait, options = {column: 78, killTrailingSpace: true, wrapOn: /\\s\\S|[^\\.\\d]/};\n",
        "//    cm.on(\"change\", function(cm, change) {\n",
        "//      clearTimeout(wait);\n",
        "//      wait = setTimeout(function() {\n",
        "//        console.log(cm.wrapParagraphsInRange(change.from, CodeMirror.changeEnd(change), options));\n",
        "//      }, 300);\n",
        "//    });\n",
        "//});\n",
        "\n",
        "}, function  failure() { \n",
        "    alert('le sucks, something went wrong');\n",
        "\n",
        "});\n",
        "\n",
        "\n",
        "// at_top  and at_bottom methods for ipython-vimception\n",
        "    /**\n",
        "     * @method at_top\n",
        "     * @return {Boolean}\n",
        "     */\n",
        "    Cell.prototype.at_top = function () {\n",
        "        var cm = this.code_mirror;\n",
        "        var cursor = cm.getCursor();\n",
        "        if (cursor.line === 0 && cm.findPosV(cursor, -1, 'line').hitSide) {\n",
        "            return true;\n",
        "        } else {\n",
        "            return false;\n",
        "        }\n",
        "    };\n",
        "\n",
        "    /**\n",
        "     * @method at_bottom\n",
        "     * @return {Boolean}\n",
        "     * */\n",
        "    Cell.prototype.at_bottom = function () {\n",
        "        var cm = this.code_mirror;\n",
        "        var cursor = cm.getCursor();\n",
        "        if (cursor.line === (cm.lineCount()-1) && cm.findPosV(cursor, 1, 'line').hitSide) {\n",
        "            return true;\n",
        "        } else {\n",
        "            return false;\n",
        "        }\n",
        "    };\n"
       ],
       "metadata": {},
       "output_type": "display_data",
       "text": [
        "<IPython.core.display.Javascript at 0x7fa3bc0ad190>"
       ]
      },
      {
       "javascript": [
        "\n",
        "var cmd = IPython.keyboard_manager.command_shortcuts;\n",
        "var edit = IPython.keyboard_manager.edit_shortcuts;\n",
        "var def_cmd = IPython.default_command_shortcuts;\n",
        "var def_edit = IPython.default_edit_shortcuts;\n",
        "\n",
        "// get the code mirror editor of a curently selected cell\n",
        "function C() { return IPython.notebook.get_selected_cell().code_mirror; };\n",
        "\n",
        "// Change the mode of all current and future CodeMirror instances\n",
        "// Emacs users can use this function as just to('emacs') so long as they've\n",
        "// required/loaded emacs.js from CodeMirror\n",
        "function to(mode) {\n",
        "    var mode = mode || 'vim'\n",
        "    // first let's apply vim mode to all current cells\n",
        "    function to_mode(c) { return c.code_mirror.setOption('keyMap', mode);};\n",
        "    IPython.notebook.get_cells().map(to_mode);\n",
        "    // apply the mode to future cells created\n",
        "    IPython.Cell.options_default.cm_config.keyMap = mode;\n",
        "}\n",
        "\n",
        "function getCSS(path) {\n",
        "    $('<link/>', {\n",
        "       rel: 'stylesheet',\n",
        "       type: 'text/css',\n",
        "       href: path,\n",
        "    }).appendTo('head');\n",
        "}\n",
        "\n",
        "// I messed around with trying to get requireJS going here, but gave up and\n",
        "// just using this answer from SO \n",
        "// http://stackoverflow.com/questions/11803215/how-to-include-multiple-js-files-using-jquery-getscript-method\n",
        "\n",
        "var p = \"/static/components/codemirror/addon/\";\n",
        "\n",
        "$.when(\n",
        "// Grab the CodeMirror vim keymap\n",
        "$.getScript(p + \"../keymap/vim.js\"),\n",
        "// also make search work via /\n",
        "$.getScript(p + \"search/search.js\"),\n",
        "$.getScript(p + \"search/searchcursor.js\"),\n",
        "\n",
        "// TODO: hook-up gq to perform a harwrap\n",
        "$.getScript(p + \"wrap/hardwrap.js\"),\n",
        "$.getScript(p + \"selection/active-line.js\"),\n",
        "\n",
        "$.getScript(p + \"display/fullscreen.js\"),\n",
        "getCSS(p + \"display/fullscreen.css\"),\n",
        "getCSS(p + \"dialog/dialog.css\"),\n",
        "$.getScript(p + \"dialog/dialog.js\"),\n",
        "\n",
        "\n",
        "    $.Deferred(function( deferred ){\n",
        "        $( deferred.resolve );\n",
        "    })\n",
        ").then(function success(){\n",
        "\n",
        "console.log('Great success');\n",
        "\n",
        "IPython.CodeCell.options_default.cm_config.foldGutter = true;\n",
        "IPython.CodeCell.options_default.cm_config.gutters =  [\"CodeMirror-linenumbers\", \"CodeMirror-foldgutter\"];\n",
        "\n",
        "IPython.Cell.prototype.at_top = function () {\n",
        "        var cm = this.code_mirror;\n",
        "        var cursor = cm.getCursor();\n",
        "        if (cursor.line === 0) {\n",
        "            return true;\n",
        "        }\n",
        "        return false;\n",
        "    };\n",
        "\n",
        "\n",
        "IPython.Cell.prototype.at_bottom = function () {\n",
        "    var cm = this.code_mirror;\n",
        "    var cursor = cm.getCursor();\n",
        "    if (cursor.line === (cm.lineCount()-1)) {\n",
        "        return true;\n",
        "    }\n",
        "    return false;\n",
        "};\n",
        "// on all code mirror instances on this page, apply the function f\n",
        "function all_cm(f) {\n",
        "    // apply f to every code mirror instance. f takes one parameter\n",
        "    IPython.notebook.get_cells().map(function (c) { f(c.code_mirror); } );\n",
        "}\n",
        "\n",
        "\n",
        "to('vim');\n",
        "function vim_up(event) {\n",
        "    var cell = IPython.notebook.get_selected_cell();\n",
        "    if (cell && cell.at_top() && cell.code_mirror.options.keyMap === 'vim') {\n",
        "        console.log('inside the business logic k');\n",
        "        event.preventDefault();\n",
        "        IPython.notebook.command_mode()\n",
        "        IPython.notebook.select_prev();\n",
        "        IPython.notebook.edit_mode();\n",
        "        return false;\n",
        "    };\n",
        "}\n",
        "\n",
        "function vim_down(event) {\n",
        "            var cell = IPython.notebook.get_selected_cell();\n",
        "            if (cell && cell.at_bottom() && cell.code_mirror.options.keyMap === 'vim') {\n",
        "                event.preventDefault();\n",
        "                IPython.notebook.command_mode()\n",
        "                IPython.notebook.select_next();\n",
        "                IPython.notebook.edit_mode();\n",
        "                return false;\n",
        "            };\n",
        "        }\n",
        "\n",
        "var m = '(vim) '\n",
        "var edit_shortcuts = {\n",
        "    'k' : {\n",
        "        help    : m + 'up a line, even across cells',\n",
        "        help_index : 'AA',\n",
        "        handler : vim_up\n",
        "    },\n",
        "    'j' : {\n",
        "        help    : m + 'down a line, even across cells',\n",
        "        help_index : 'AA',\n",
        "        handler : vim_down\n",
        "    },\n",
        "\n",
        "};\n",
        "\n",
        "var command_shortcuts = {\n",
        "    'c' :  {\n",
        "        help    : m + def_cmd['y'].help,\n",
        "        help_index : 'AA',\n",
        "        handler : def_cmd['y'].handler\n",
        "    }\n",
        "\n",
        "\n",
        "};\n",
        "\n",
        "edit.add_shortcuts(edit_shortcuts);\n",
        "cmd.add_shortcuts(command_shortcuts);\n",
        "//edit.add_shortcuts('k', def_edit['up'].handler);\n",
        "//edit.add_shortcut('j', def_edit['down'].handler);\n",
        "\n",
        "// N.B. This code looks fairly simple, but it took me forever to \n",
        "// figure out how to do this, \n",
        "// \n",
        "// there's a problem here, Ctrl-[ is already handled by CodeMirror by the time we \n",
        "// (IPython.keyboard_manager) get it CodeMirror issues signals on mode change, \n",
        "// so we have to hook into that to get Ctrl-[\n",
        "edit.remove_shortcut('Ctrl-[');\n",
        "edit.remove_shortcut('Esc');\n",
        "\n",
        "CodeMirror.commands.leaveInsertOrEdit = function (cm) {\n",
        "    if ( cm.state.vim.insertMode ) {\n",
        "        // do magic here to get out of insert mode\n",
        "        CodeMirror.keyMap['vim-insert']['Esc'](cm);\n",
        "    } else {\n",
        "        IPython.notebook.command_mode();\n",
        "        IPython.notebook.focus_cell();\n",
        "    }\n",
        "};\n",
        "        \n",
        "//C().options.extraKeys['Ctrl-['] = 'leaveInsertOrEdit';\n",
        "all_cm( function (cm) {\n",
        "    cm.options.extraKeys['Ctrl-['] = 'leaveInsertOrEdit';\n",
        "    cm.options.extraKeys['Esc'] = 'leaveInsertOrEdit';\n",
        "    if ( CodeMirror.defaults.extraKeys === null ) { \n",
        "        CodeMirror.defaults.extraKeys = {};\n",
        "    }\n",
        "    // TODO: make this change permanent\n",
        "    // this part seems to be ignore when adding a new cell\n",
        "    // - alternative solution would be to listen for NewCell events and rerun the CM function on it\n",
        "    // - it could also be the case that when we instatiate CodeMirror, we somehow leave out CM.defaults.extraKeys\n",
        "    IPython.CodeCell.options_default.cm_config.extraKeys['Ctrl-['] = 'leaveInsertOrEdit';\n",
        "    IPython.TextCell.options_default.cm_config.extraKeys['Ctrl-['] = 'leaveInsertOrEdit';\n",
        "    IPython.CodeCell.options_default.cm_config.extraKeys['Esc'] = 'leaveInsertOrEdit';\n",
        "    IPython.TextCell.options_default.cm_config.extraKeys['Esc'] = 'leaveInsertOrEdit';\n",
        "})\n",
        "\n",
        "// On blur, make sure we go back to command mode for CodeMirror (in case user clicked away)\n",
        "// TODO: Make this permanent - how to get CodeMirror to do this for new cells created after\n",
        "all_cm( function (cm) {\n",
        "    cm.on('blur', function(cm) {\n",
        "        // TODO: I wish I understood a better way to do this, but fake pressing Escape work\n",
        "        CodeMirror.keyMap['vim-insert']['Esc'](cm);\n",
        "        CodeMirror.keyMap['vim']['Esc'](cm);\n",
        "        cm.setOption('styleActiveLine', false);\n",
        "        if (cm.getOption(\"fullScreen\")) {\n",
        "            cm.setOption('fullScreen', false); \n",
        "            // fullScreen the newly selected code mirror (doesn't work)\n",
        "            //setTimeout(100, function() {\n",
        "            //    console.log(IPython.notebook.get_selected_cell().code_mirror);\n",
        "            //    IPython.notebook.get_selected_cell().code_mirror.setOption('fullScreen', true); \n",
        "            //});\n",
        "        }\n",
        "    });\n",
        "    cm.on('focus', function(cm) {\n",
        "        cm.setOption('styleActiveLine', true);\n",
        "    });\n",
        "});\n",
        "\n",
        "// 'i' by default interrupts the kernel (what Ctrl-C does at the terminal)\n",
        "cmd.remove_shortcut('i');\n",
        "cmd.add_shortcut('i', def_cmd.enter);\n",
        "\n",
        "// not quite what we want - 'i' requires a double-tap\n",
        "// add documentation for this.\n",
        "cmd.add_shortcut('ctrl-c', function(e) { IPython.notebook.kernel.interrupt(); return false});\n",
        "\n",
        "\n",
        "function focus_last(e) {\n",
        "    var cells = IPython.notebook.get_cells();\n",
        "    cells[cells.length-1].focus_cell();\n",
        "};\n",
        "\n",
        "function focus_first(e) {\n",
        "    var cells = IPython.notebook.get_cells();\n",
        "    cells[0].focus_cell();\n",
        "};\n",
        "\n",
        "function combo_tap(combo, action) {\n",
        "    var that = this;\n",
        "    var timeout;\n",
        "    function f() {\n",
        "        console.log('f called once');\n",
        "        \n",
        "        // redo this so that when an action is performed, we restore the original combo\n",
        "        cmd.add_shortcut(combo[1], \n",
        "                function() { console.log(\"doing action\", combo); reset(); action(); timeout.clear();} );\n",
        "        timeout = setTimeout(function () {\n",
        "            console.log('resetting f');\n",
        "            reset();\n",
        "            //cmd.add_shortcut(combo[0], reset)\n",
        "        }, 800);\n",
        "    }\n",
        "    function reset(e) {\n",
        "        //cmd.remove_shortcut(combo[0]);\n",
        "        console.log('reset called');\n",
        "        //if (timeout) {\n",
        "        //    console.log('resetting aborted');\n",
        "        //    clearTimeout(timeout);\n",
        "        //    timeout = null;\n",
        "        //}\n",
        "        //that(combo, action); \n",
        "        cmd.add_shortcut(combo[0], f);\n",
        "    }\n",
        "    console.log(\"combo tap for\", combo);\n",
        "    \n",
        "    reset();\n",
        "};\n",
        "cmd.add_shortcut('shift-g', focus_last);\n",
        "combo_tap('gg', focus_first);\n",
        "\n",
        "// XXX: the way combo tap is currently implemented, this won't work\n",
        "// need a more generic mechanism for combo-taps with common prefixes\n",
        "// combo_tap('gq', f();\n",
        "//cmd.remove_shortcut('d');\n",
        "// cut\n",
        "combo_tap('dd', def_cmd['x'].handler);\n",
        "\n",
        "// copy\n",
        "combo_tap('yy', def_cmd['c'].handler);\n",
        "\n",
        "// paste\n",
        "cmd.add_shortcut('p', def_cmd['v']);\n",
        "\n",
        "// undo\n",
        "cmd.add_shortcut('u', def_cmd['z']);\n",
        "\n",
        "// Join (merge down with cell below)\n",
        "cmd.add_shortcut('shift-j', def_cmd['shift-m'])\n",
        "\n",
        "//edit.add_shortcut('k', def_edit['up'].handler);\n",
        "//[edit.add_shortcut('j', def_edit['down'].handler);\n",
        "\n",
        "CodeMirror.prototype.save = function() { \n",
        "    IPython.notebook.save_checkpoint()\n",
        "}\n",
        "\n",
        "function focus_last(e) {\n",
        "    var cells = IPython.notebook.get_cells();\n",
        "    cells[cells.length-1].focus_cell();\n",
        "};\n",
        "\n",
        "function focus_first(e) {\n",
        "    console.log('focus first called');\n",
        "    var cells = IPython.notebook.get_cells();\n",
        "    cells[0].focus_cell();\n",
        "};\n",
        "\n",
        "\n",
        "cmd.add_shortcut('shift-g', focus_last);\n",
        "combo_tap('gg', focus_first);\n",
        "\n",
        "// get rid of the default Ctrl-W binding\n",
        "// this only works for Firefox\n",
        "$(document).ready(function() {\n",
        "\t$(this).bind('keypress', function(e) {\n",
        "\t\tvar key = (e.keyCode ? e.keyCode : e.charCode);\n",
        "\t\tif (key == '119' && e.ctrlKey) {\n",
        "\t\t\treturn false;\n",
        "\t\t}\n",
        "\t});\n",
        "});\n",
        "\n",
        "window.addEventListener(\"beforeunload\", function( event ) {\n",
        "    var press = jQuery.Event(\"keypress\");\n",
        "    press.ctrlKey = false;\n",
        "    press.which = 27; // escape\n",
        "    $(document).trigger(press);\n",
        "    event.returnValue = \"\\nXXXXXXXXXXXXXXXXXXXXXXXXXXXXXXXXXXXXXXXXXXXXXX\";\n",
        "    event.returnValue +=\"\\nX  Chrome sucks at captruring Ctrl-W, sorry  X\";\n",
        "    event.returnValue += \"\\nXXXXXXXXXXXXXXXXXXXXXXXXXXXXXXXXXXXXXXXXXXXXXX\";\n",
        "});\n",
        "\n",
        "// update the keyboard shortcuts\n",
        "IPython.quick_help = new IPython.QuickHelp();\n",
        "\n",
        "//IPython.CodeCell.options_default.cm_config.styleActiveLine = true;\n",
        "\n",
        "all_cm( function (cm) {\n",
        "    cm.setOption('foldGutter', true);\n",
        "    cm.setOption('gutters',  [\"CodeMirror-linenumbers\", \"CodeMirror-foldgutter\"]);\n",
        "    cm.options.extraKeys[\"Ctrl-F\"] = function(cm){ cm.foldCode(cm.getCursor()); };\n",
        "    var wrapOptions = {column: 78, killTrailingSpace: true, wrapOn: /\\s\\S|[^\\.\\d]/ };\n",
        "    // XXX: add a hardwrap-range to this as well\n",
        "    cm.options.extraKeys[\"F2\"] =  function(cm) { cm.wrapParagraph(cm.getCursor(), wrapOptions); };\n",
        "    //cm.options.extraKeys[\"[\"] =  function(cm) { cm.setOption(\"fullScreen\", !cm.getOption(\"fullScreen\"))};\n",
        "    IPython.CodeCell.options_default.cm_config.extraKeys['Ctrl-F'] = function(cm){ cm.foldCode(cm.getCursor()); };\n",
        "    IPython.TextCell.options_default.cm_config.extraKeys['Ctrl-F'] = function(cm){ cm.foldCode(cm.getCursor()); };\n",
        "\n",
        "    // todo - do this for new cells as well\n",
        "    // support this a :only? turn off full screen on blur\n",
        "    cm.options.extraKeys[\"F11\"] =  function(cm) { cm.setOption(\"fullScreen\", !cm.getOption(\"fullScreen\"))};\n",
        "    cm.options.extraKeys[\"Ctrl-A\"] =  function(cm) {\n",
        "          if (cm.getOption(\"fullScreen\")) cm.setOption(\"fullScreen\", false);\n",
        "        };\n",
        "    //all_cm( function (cm) {\n",
        "});\n",
        "\n",
        "//setTimeout(function() {IPython.notebook.get_selected_cell().set_input_prompt('vim');}, 200)\n",
        "\n",
        "$(\"#ipython_notebook\").find('img').remove('#vim');\n",
        "$(\"#ipython_notebook\").append('<img id=\"vim\" src=\"http://www.vim.org/images/vim_on_fire.gif\"'\n",
        "        // XXX: add it to the distribution\n",
        "        // /static/custom/vim_on_fire.gif\" \n",
        "    + ' style=\"'\n",
        "    + 'position: absolute; left: 51px; top: -10px; height: initial;\">')\n",
        "$(\"#vim\").click( function () {$(this).hide()});\n",
        "\n",
        "\n",
        "// XXX: Autowrapping is kind of broken - you can write a line that will have\n",
        "// its last word (if it's 1 or 2 characters just go back and forth between the\n",
        "// current and the next lines)\n",
        "//all_cm(function (cm) {\n",
        "//    var wait, options = {column: 78, killTrailingSpace: true, wrapOn: /\\s\\S|[^\\.\\d]/};\n",
        "//    cm.on(\"change\", function(cm, change) {\n",
        "//      clearTimeout(wait);\n",
        "//      wait = setTimeout(function() {\n",
        "//        console.log(cm.wrapParagraphsInRange(change.from, CodeMirror.changeEnd(change), options));\n",
        "//      }, 300);\n",
        "//    });\n",
        "//});\n",
        "\n",
        "}, function  failure() { \n",
        "    alert('le sucks, something went wrong');\n",
        "\n",
        "});\n",
        "\n",
        "\n",
        "// at_top  and at_bottom methods for ipython-vimception\n",
        "    /**\n",
        "     * @method at_top\n",
        "     * @return {Boolean}\n",
        "     */\n",
        "    Cell.prototype.at_top = function () {\n",
        "        var cm = this.code_mirror;\n",
        "        var cursor = cm.getCursor();\n",
        "        if (cursor.line === 0 && cm.findPosV(cursor, -1, 'line').hitSide) {\n",
        "            return true;\n",
        "        } else {\n",
        "            return false;\n",
        "        }\n",
        "    };\n",
        "\n",
        "    /**\n",
        "     * @method at_bottom\n",
        "     * @return {Boolean}\n",
        "     * */\n",
        "    Cell.prototype.at_bottom = function () {\n",
        "        var cm = this.code_mirror;\n",
        "        var cursor = cm.getCursor();\n",
        "        if (cursor.line === (cm.lineCount()-1) && cm.findPosV(cursor, 1, 'line').hitSide) {\n",
        "            return true;\n",
        "        } else {\n",
        "            return false;\n",
        "        }\n",
        "    };\n"
       ],
       "metadata": {},
       "output_type": "display_data",
       "text": [
        "<IPython.core.display.Javascript at 0x7fa3bc0ad6d0>"
       ]
      }
     ],
     "prompt_number": 1
    },
    {
     "cell_type": "code",
     "collapsed": false,
     "input": [
      "# import seaborn\n",
      "import numpy as np\n",
      "import pandas as pd\n",
      "from patsy import dmatrices, dmatrix\n",
      "from pandas import Series, DataFrame\n",
      "import matplotlib.pyplot as plt\n",
      "%pylab inline\n",
      "import time\n",
      "import sklearn\n",
      "from sklearn.decomposition import PCA\n",
      "from sklearn.linear_model import LinearRegression\n",
      "from sklearn.linear_model import Lars\n",
      "from sklearn import neighbors\n",
      "from sklearn import gaussian_process\n",
      "from sklearn.cross_validation import KFold\n",
      "from sklearn.grid_search import GridSearchCV\n",
      "import scipy.stats as stats\n",
      "import scipy\n",
      "import matplotlib.pyplot as plt\n",
      "from mpl_toolkits.mplot3d import Axes3D\n",
      "from sklearn.cluster import KMeans\n",
      "from scipy.spatial import ConvexHull\n",
      "import scipy.spatial.distance as sdist"
     ],
     "language": "python",
     "metadata": {},
     "outputs": [
      {
       "output_type": "stream",
       "stream": "stdout",
       "text": [
        "Populating the interactive namespace from numpy and matplotlib\n"
       ]
      }
     ],
     "prompt_number": 2
    },
    {
     "cell_type": "code",
     "collapsed": false,
     "input": [
      "df = pd.read_csv('/root/Downloads/xeon/data.csv', header=None)"
     ],
     "language": "python",
     "metadata": {},
     "outputs": [],
     "prompt_number": 6
    },
    {
     "cell_type": "code",
     "collapsed": false,
     "input": [
      "print df.shape"
     ],
     "language": "python",
     "metadata": {},
     "outputs": [
      {
       "output_type": "stream",
       "stream": "stdout",
       "text": [
        "(40000, 97)\n"
       ]
      }
     ],
     "prompt_number": 7
    },
    {
     "cell_type": "code",
     "collapsed": true,
     "input": [
      "sklearn_pca = PCA(n_components=50, whiten=True)\n",
      "pca = sklearn_pca.fit_transform(np.array(df, dtype=\"float\"))\n",
      "train_data = np.array(df, dtype=\"float\")\n",
      "R = np.dot(np.transpose(train_data), train_data)\n",
      "w, a = scipy.linalg.eig(R)\n",
      "w = abs(w)\n",
      "eigval = sort(w)[::-1]\n",
      "eigtot = sum(eigval)\n",
      "pov = eigval / eigtot\n",
      "scatter(xrange(1, 98), pov)\n",
      "plot(sklearn_pca.explained_variance_, 'x', linewidth=2)"
     ],
     "language": "python",
     "metadata": {},
     "outputs": [
      {
       "metadata": {},
       "output_type": "pyout",
       "prompt_number": 8,
       "text": [
        "[<matplotlib.lines.Line2D at 0x7fd8650bd1d0>]"
       ]
      },
      {
       "metadata": {},
       "output_type": "display_data",
       "png": "[encoded data removed]",
       "text": [
        "<matplotlib.figure.Figure at 0x7fd8650bd150>"
       ]
      }
     ],
     "prompt_number": 8
    },
    {
     "cell_type": "markdown",
     "metadata": {},
     "source": [
      "pca3 = pca[:, 0:3]\n",
      "\n",
      "scatter(pca3[:, 0], pca3[:, 2], marker='x')\n",
      "\n",
      "scatter(pca[:, 1], pca[:, 2], marker='x')\n",
      "\n",
      "for i in xrange(0, 30, 2):\n",
      "    figure()\n",
      "    scatter(pca[:, i], pca[:, i+1], marker='x')\n",
      "    title(str(i) + ' & ' + str(i+1) + ': ' + str(sum(eigval[i:i+2])/eigtot * 100))\n",
      "\n",
      "x=4; y=4\n",
      "start=32\n",
      "subplots(x,y)\n",
      "for i in xrange(x*y):\n",
      "#     subplot(15, 6, i+1)\n",
      "    subplot(x, y, i+1)\n",
      "    stats.probplot(df[start+i], dist=\"norm\", plot=pylab)\n",
      "\n",
      "fig = plt.figure()\n",
      "ax = fig.add_subplot(111, projection='3d')\n",
      "ax.scatter3D(pca[:, 0], pca[:, 1], pca[:, 2], s=4, zdir='y')"
     ]
    },
    {
     "cell_type": "code",
     "collapsed": false,
     "input": [
      "def distance(x, y):\n",
      "    return norm(x - y, ord=2)"
     ],
     "language": "python",
     "metadata": {},
     "outputs": [],
     "prompt_number": 6
    },
    {
     "cell_type": "code",
     "collapsed": false,
     "input": [
      "# Optimize!!\n",
      "# Max euclidean dist amongst a set of n vectors\n",
      "def diameter(v):\n",
      "    d = 0\n",
      "    l = v.shape[0]\n",
      "    for i in xrange(l):\n",
      "        for j in xrange(i+1, l):\n",
      "            d = max(d, distance(v[i, :], v[j, :]))\n",
      "    return d"
     ],
     "language": "python",
     "metadata": {},
     "outputs": [],
     "prompt_number": 7
    },
    {
     "cell_type": "code",
     "collapsed": false,
     "input": [
      "def dunn(data, labels):\n",
      "    l_u = unique(labels)\n",
      "    min_dists = np.zeros((len(l_u), 1))\n",
      "    diameters = np.zeros((len(l_u), 1))\n",
      "    \n",
      "    for i in l_u:\n",
      "        cluster = data[labels==i, :]\n",
      "        print i, cluster.shape[0]\n",
      "#         min_dists[i] = min_dists(cluster)\n",
      "        diameters[i] = diameter(cluster)\n",
      "        print diameters[i]\n",
      "        \n",
      "#     numerator = min(min_dists)\n",
      "#     denominator = max()\n",
      "    return numerator / denominator"
     ],
     "language": "python",
     "metadata": {},
     "outputs": [],
     "prompt_number": 8
    },
    {
     "cell_type": "markdown",
     "metadata": {},
     "source": [
      "%pylab qt\n",
      "fig = figure()\n",
      "ax = fig.add_subplot(111, projection='3d')\n",
      "ax.scatter3D(cluster[:, 0], cluster[:, 1], cluster[:, 2])"
     ]
    },
    {
     "cell_type": "code",
     "collapsed": true,
     "input": [
      "N = 26\n",
      "estimators = {'k_means_' + str(i): KMeans(n_clusters=i, n_init=10) for i in xrange(1, N)}"
     ],
     "language": "python",
     "metadata": {},
     "outputs": [],
     "prompt_number": 50
    },
    {
     "cell_type": "code",
     "collapsed": false,
     "input": [
      "pca6 = pca[:, :6]\n",
      "pca3 = pca[:, :3]"
     ],
     "language": "python",
     "metadata": {},
     "outputs": [],
     "prompt_number": 19
    },
    {
     "cell_type": "code",
     "collapsed": false,
     "input": [
      "cluster_data = pca6"
     ],
     "language": "python",
     "metadata": {},
     "outputs": [],
     "prompt_number": 19
    },
    {
     "cell_type": "code",
     "collapsed": true,
     "input": [
      "dunn_list = np.zeros((N, 1))\n",
      "labels_list = np.zeros((40000, N))\n",
      "for i, (name, est) in enumerate(estimators.items()):\n",
      "    est.fit(cluster_data)\n",
      "    labels_list[:, i] = est.labels_\n",
      "    #dunn_list[i]=dunn(data, est.labels_)\n",
      "    print name, dunn_list[i]\n",
      "#     fig = plt.figure()\n",
      "#     ax.fig.addsubplot(111, projection='3d')"
     ],
     "language": "python",
     "metadata": {},
     "outputs": [
      {
       "output_type": "stream",
       "stream": "stdout",
       "text": [
        "k_means_1 [ 0.]\n",
        "k_means_2"
       ]
      },
      {
       "output_type": "stream",
       "stream": "stdout",
       "text": [
        " [ 0.]\n",
        "k_means_3"
       ]
      },
      {
       "output_type": "stream",
       "stream": "stdout",
       "text": [
        " [ 0.]\n",
        "k_means_4"
       ]
      },
      {
       "output_type": "stream",
       "stream": "stdout",
       "text": [
        " [ 0.]\n",
        "k_means_5"
       ]
      },
      {
       "output_type": "stream",
       "stream": "stdout",
       "text": [
        " [ 0.]\n",
        "k_means_6"
       ]
      },
      {
       "output_type": "stream",
       "stream": "stdout",
       "text": [
        " [ 0.]\n",
        "k_means_7"
       ]
      },
      {
       "output_type": "stream",
       "stream": "stdout",
       "text": [
        " [ 0.]\n",
        "k_means_8"
       ]
      },
      {
       "output_type": "stream",
       "stream": "stdout",
       "text": [
        " [ 0.]\n",
        "k_means_9"
       ]
      },
      {
       "output_type": "stream",
       "stream": "stdout",
       "text": [
        " [ 0.]\n",
        "k_means_23"
       ]
      },
      {
       "output_type": "stream",
       "stream": "stdout",
       "text": [
        " [ 0.]\n",
        "k_means_22"
       ]
      },
      {
       "output_type": "stream",
       "stream": "stdout",
       "text": [
        " [ 0.]\n",
        "k_means_21"
       ]
      },
      {
       "output_type": "stream",
       "stream": "stdout",
       "text": [
        " [ 0.]\n",
        "k_means_20"
       ]
      },
      {
       "output_type": "stream",
       "stream": "stdout",
       "text": [
        " [ 0.]\n",
        "k_means_25"
       ]
      },
      {
       "output_type": "stream",
       "stream": "stdout",
       "text": [
        " [ 0.]\n",
        "k_means_24"
       ]
      },
      {
       "output_type": "stream",
       "stream": "stdout",
       "text": [
        " [ 0.]\n",
        "k_means_12"
       ]
      },
      {
       "output_type": "stream",
       "stream": "stdout",
       "text": [
        " [ 0.]\n",
        "k_means_13"
       ]
      },
      {
       "output_type": "stream",
       "stream": "stdout",
       "text": [
        " [ 0.]\n",
        "k_means_10"
       ]
      },
      {
       "output_type": "stream",
       "stream": "stdout",
       "text": [
        " [ 0.]\n",
        "k_means_11"
       ]
      },
      {
       "output_type": "stream",
       "stream": "stdout",
       "text": [
        " [ 0.]\n",
        "k_means_16"
       ]
      },
      {
       "output_type": "stream",
       "stream": "stdout",
       "text": [
        " [ 0.]\n",
        "k_means_17"
       ]
      },
      {
       "output_type": "stream",
       "stream": "stdout",
       "text": [
        " [ 0.]\n",
        "k_means_14"
       ]
      },
      {
       "output_type": "stream",
       "stream": "stdout",
       "text": [
        " [ 0.]\n",
        "k_means_15"
       ]
      },
      {
       "output_type": "stream",
       "stream": "stdout",
       "text": [
        " [ 0.]\n",
        "k_means_18"
       ]
      },
      {
       "output_type": "stream",
       "stream": "stdout",
       "text": [
        " [ 0.]\n",
        "k_means_19"
       ]
      },
      {
       "output_type": "stream",
       "stream": "stdout",
       "text": [
        " [ 0.]\n"
       ]
      }
     ],
     "prompt_number": 20
    },
    {
     "cell_type": "markdown",
     "metadata": {},
     "source": [
      "print \"\\n.... Size of clusters ....\"\n",
      "for i, label in enumerate(labels_list.T):\n",
      "    figure()\n",
      "    title(str(i+1) + ': ' + str(max(unique(label))+1))\n",
      "    a = [cluster_data[label==index, :].shape for index in unique(label)]\n",
      "    plot(a, 'x-')"
     ]
    },
    {
     "cell_type": "code",
     "collapsed": false,
     "input": [
      "print \"\\n... Diameters \\n\"\n",
      "diameters = np.zeros((N, 1))\n",
      "for k, label in enumerate(labels_list.transpose()):\n",
      "    #print unique(label)\n",
      "    print k, max(unique(label))\n",
      "    diameters[k]= 0\n",
      "    for index in unique(label):\n",
      "        cluster = cluster_data[label == index, :]\n",
      "        hull = ConvexHull(cluster)\n",
      "        for i in hull.vertices:\n",
      "            for j in hull.vertices:\n",
      "                dist = norm(cluster[i, :] - cluster[j, :])\n",
      "                if dist > diameters[k]:\n",
      "                    diameters[k] = dist\n",
      "    print diameters[k], '\\n'\n",
      "\n",
      "####################################################################    \n",
      "print \"\\n ... Separations ... \\n\"\n",
      "separation = np.zeros((N, 1))\n",
      "for k, label in enumerate(labels_list.transpose()):\n",
      "    #print unique(label)\n",
      "    C = int(max(unique(label)))\n",
      "    print k, C\n",
      "    separation[k]= inf\n",
      "    if(k==0):\n",
      "        separation[k]=0\n",
      "        continue\n",
      "    \n",
      "    for i in xrange(C):\n",
      "        for j in xrange(i+1, C+1):\n",
      "            x_mu = cluster_data[label==i, :].mean(axis=0)\n",
      "            y_mu = cluster_data[label==j, :].mean(axis=0)\n",
      "            d = norm(x_mu - y_mu)\n",
      "            if(d<separation[k]):\n",
      "                separation[k] = d\n",
      "    print separation[k], '\\n'"
     ],
     "language": "python",
     "metadata": {},
     "outputs": [
      {
       "output_type": "stream",
       "stream": "stdout",
       "text": [
        "\n",
        "... Diameters \n",
        "\n",
        "0 0.0\n",
        "[ 7.61818405]"
       ]
      },
      {
       "output_type": "stream",
       "stream": "stdout",
       "text": [
        " \n",
        "\n",
        "1 1.0\n"
       ]
      },
      {
       "ename": "KeyboardInterrupt",
       "evalue": "",
       "output_type": "pyerr",
       "traceback": [
        "\u001b[1;31m---------------------------------------------------------------------------\u001b[0m\n\u001b[1;31mKeyboardInterrupt\u001b[0m                         Traceback (most recent call last)",
        "\u001b[1;32m<ipython-input-21-5d8324a5d84b>\u001b[0m in \u001b[0;36m<module>\u001b[1;34m()\u001b[0m\n\u001b[0;32m     10\u001b[0m         \u001b[1;32mfor\u001b[0m \u001b[0mi\u001b[0m \u001b[1;32min\u001b[0m \u001b[0mhull\u001b[0m\u001b[1;33m.\u001b[0m\u001b[0mvertices\u001b[0m\u001b[1;33m:\u001b[0m\u001b[1;33m\u001b[0m\u001b[0m\n\u001b[0;32m     11\u001b[0m             \u001b[1;32mfor\u001b[0m \u001b[0mj\u001b[0m \u001b[1;32min\u001b[0m \u001b[0mhull\u001b[0m\u001b[1;33m.\u001b[0m\u001b[0mvertices\u001b[0m\u001b[1;33m:\u001b[0m\u001b[1;33m\u001b[0m\u001b[0m\n\u001b[1;32m---> 12\u001b[1;33m                 \u001b[0mdist\u001b[0m \u001b[1;33m=\u001b[0m \u001b[0mnorm\u001b[0m\u001b[1;33m(\u001b[0m\u001b[0mcluster\u001b[0m\u001b[1;33m[\u001b[0m\u001b[0mi\u001b[0m\u001b[1;33m,\u001b[0m \u001b[1;33m:\u001b[0m\u001b[1;33m]\u001b[0m \u001b[1;33m-\u001b[0m \u001b[0mcluster\u001b[0m\u001b[1;33m[\u001b[0m\u001b[0mj\u001b[0m\u001b[1;33m,\u001b[0m \u001b[1;33m:\u001b[0m\u001b[1;33m]\u001b[0m\u001b[1;33m)\u001b[0m\u001b[1;33m\u001b[0m\u001b[0m\n\u001b[0m\u001b[0;32m     13\u001b[0m                 \u001b[1;32mif\u001b[0m \u001b[0mdist\u001b[0m \u001b[1;33m>\u001b[0m \u001b[0mdiameters\u001b[0m\u001b[1;33m[\u001b[0m\u001b[0mk\u001b[0m\u001b[1;33m]\u001b[0m\u001b[1;33m:\u001b[0m\u001b[1;33m\u001b[0m\u001b[0m\n\u001b[0;32m     14\u001b[0m                     \u001b[0mdiameters\u001b[0m\u001b[1;33m[\u001b[0m\u001b[0mk\u001b[0m\u001b[1;33m]\u001b[0m \u001b[1;33m=\u001b[0m \u001b[0mdist\u001b[0m\u001b[1;33m\u001b[0m\u001b[0m\n",
        "\u001b[1;31mKeyboardInterrupt\u001b[0m: "
       ]
      }
     ],
     "prompt_number": 21
    },
    {
     "cell_type": "code",
     "collapsed": false,
     "input": [
      "print zip(xrange(len(confusion)), confusion)"
     ],
     "language": "python",
     "metadata": {},
     "outputs": []
    },
    {
     "cell_type": "code",
     "collapsed": false,
     "input": [
      "%pylab qt\n",
      "fig = plt.figure()\n",
      "index=15\n",
      "n_clusters=int(confusion[16])\n",
      "ax = fig.add_subplot(111, projection='3d')\n",
      "label = labels_list[:, index]\n",
      "col = ['b', 'g', 'r', 'c', 'm', 'y', 'k', 'w', 'darkorange', 'crimson', 'darksage', 'darkgray', 'sandybrown']\n",
      "print len(col), max(unique(label))\n",
      "for index in xrange(n_clusters):\n",
      "    ax.scatter3D(pca3[label==index, 0], pca3[label==index, 1], pca3[label==index, 2], s=4, zdir='y', c=col[index])"
     ],
     "language": "python",
     "metadata": {},
     "outputs": []
    },
    {
     "cell_type": "markdown",
     "metadata": {},
     "source": [
      "## SECOND ATTEMPT!\n",
      "- Deadline extended (yay!)\n",
      "- No. of clusters between 15 and 30 \n",
      "- The maximum allowed mean squared error for your cluster is 10\n",
      "- \"You cannot give a list of centroids as inputs to your program (or hard\n",
      "coded in your program), even if it is an initial set. These must be\n",
      "randomly set in your code and then converged to values which satisfy the\n",
      "MSE criteria. You can set the seed for random functions to get reproducible\n",
      "results.  Remember, to not use variable numbers to seed your random\n",
      "function as was observed in a few submissions.\""
     ]
    },
    {
     "cell_type": "code",
     "collapsed": false,
     "input": [
      "from sklearn.cluster import *"
     ],
     "language": "python",
     "metadata": {},
     "outputs": [],
     "prompt_number": 9
    },
    {
     "cell_type": "code",
     "collapsed": true,
     "input": [
      "N = 16\n",
      "estimators = {'k_means_' + str(i): KMeans(n_clusters=i, n_init=10) for i in xrange(1 + 15, N + 15)}"
     ],
     "language": "python",
     "metadata": {},
     "outputs": [],
     "prompt_number": 10
    },
    {
     "cell_type": "code",
     "collapsed": false,
     "input": [
      "estimators_h = {'ward_' + str(i) : AgglomerativeClustering(n_clusters=2, compute_full_tree=False, linkage='average', memory='/root/cache') for i in xrange(16, N + 15)}"
     ],
     "language": "python",
     "metadata": {},
     "outputs": [],
     "prompt_number": 11
    },
    {
     "cell_type": "code",
     "collapsed": false,
     "input": [
      "labels_list = np.zeros((40000, N))\n",
      "print \"Hello world!\"\n",
      "for i, (name, est) in enumerate(estimators_d.items()):\n",
      "    print 'Starting ', name, '...'\n",
      "    est.fit(train_data)\n",
      "    labels_list[:, i] = est.labels_\n",
      "    print name, '\\n'"
     ],
     "language": "python",
     "metadata": {},
     "outputs": [
      {
       "output_type": "stream",
       "stream": "stdout",
       "text": [
        "Hello world!\n"
       ]
      },
      {
       "ename": "NameError",
       "evalue": "name 'estimators_d' is not defined",
       "output_type": "pyerr",
       "traceback": [
        "\u001b[1;31m---------------------------------------------------------------------------\u001b[0m\n\u001b[1;31mNameError\u001b[0m                                 Traceback (most recent call last)",
        "\u001b[1;32m<ipython-input-12-72fef9c3c466>\u001b[0m in \u001b[0;36m<module>\u001b[1;34m()\u001b[0m\n\u001b[0;32m      1\u001b[0m \u001b[0mlabels_list\u001b[0m \u001b[1;33m=\u001b[0m \u001b[0mnp\u001b[0m\u001b[1;33m.\u001b[0m\u001b[0mzeros\u001b[0m\u001b[1;33m(\u001b[0m\u001b[1;33m(\u001b[0m\u001b[1;36m40000\u001b[0m\u001b[1;33m,\u001b[0m \u001b[0mN\u001b[0m\u001b[1;33m)\u001b[0m\u001b[1;33m)\u001b[0m\u001b[1;33m\u001b[0m\u001b[0m\n\u001b[0;32m      2\u001b[0m \u001b[1;32mprint\u001b[0m \u001b[1;34m\"Hello world!\"\u001b[0m\u001b[1;33m\u001b[0m\u001b[0m\n\u001b[1;32m----> 3\u001b[1;33m \u001b[1;32mfor\u001b[0m \u001b[0mi\u001b[0m\u001b[1;33m,\u001b[0m \u001b[1;33m(\u001b[0m\u001b[0mname\u001b[0m\u001b[1;33m,\u001b[0m \u001b[0mest\u001b[0m\u001b[1;33m)\u001b[0m \u001b[1;32min\u001b[0m \u001b[0menumerate\u001b[0m\u001b[1;33m(\u001b[0m\u001b[0mestimators_d\u001b[0m\u001b[1;33m.\u001b[0m\u001b[0mitems\u001b[0m\u001b[1;33m(\u001b[0m\u001b[1;33m)\u001b[0m\u001b[1;33m)\u001b[0m\u001b[1;33m:\u001b[0m\u001b[1;33m\u001b[0m\u001b[0m\n\u001b[0m\u001b[0;32m      4\u001b[0m     \u001b[1;32mprint\u001b[0m \u001b[1;34m'Starting '\u001b[0m\u001b[1;33m,\u001b[0m \u001b[0mname\u001b[0m\u001b[1;33m,\u001b[0m \u001b[1;34m'...'\u001b[0m\u001b[1;33m\u001b[0m\u001b[0m\n\u001b[0;32m      5\u001b[0m     \u001b[0mest\u001b[0m\u001b[1;33m.\u001b[0m\u001b[0mfit\u001b[0m\u001b[1;33m(\u001b[0m\u001b[0mtrain_data\u001b[0m\u001b[1;33m)\u001b[0m\u001b[1;33m\u001b[0m\u001b[0m\n",
        "\u001b[1;31mNameError\u001b[0m: name 'estimators_d' is not defined"
       ]
      }
     ],
     "prompt_number": 12
    },
    {
     "cell_type": "code",
     "collapsed": true,
     "input": [
      "np.save('/root/label_15_30.npy', labels_list)"
     ],
     "language": "python",
     "metadata": {},
     "outputs": [],
     "prompt_number": 22
    },
    {
     "cell_type": "code",
     "collapsed": false,
     "input": [
      "labels_list = np.load('data/label_15_30.npy')"
     ],
     "language": "python",
     "metadata": {},
     "outputs": [],
     "prompt_number": 13
    },
    {
     "cell_type": "code",
     "collapsed": false,
     "input": [
      "train_data.shape"
     ],
     "language": "python",
     "metadata": {},
     "outputs": [
      {
       "metadata": {},
       "output_type": "pyout",
       "prompt_number": 14,
       "text": [
        "(40000, 97)"
       ]
      }
     ],
     "prompt_number": 14
    },
    {
     "cell_type": "code",
     "collapsed": true,
     "input": [
      "# Convex Hull can't be calculated for so many dimensions here.. We'll figure out other ways..\n",
      "print '\\n.. Bounding boxes...'\n",
      "cluster_data=train_data\n",
      "\n",
      "diameters = np.zeros((N, 1))\n",
      "for k, label in enumerate(labels_list.transpose()):\n",
      "    #print unique(label)\n",
      "#     print k, max(unique(label))\n",
      "    diameters[k]= 0\n",
      "    \n",
      "    # For each cluster in the given labeling\n",
      "    for index in unique(label):\n",
      "        cluster = cluster_data[label == index, :]\n",
      "        max_ = np.ones((97, 1)) * (-inf)\n",
      "        min_ = np.ones((97, 1)) * inf\n",
      "        \n",
      "        # Find the bounding box of the cluster\n",
      "        for point in cluster:\n",
      "            for i in xrange(97):\n",
      "                if(max_[i] < point[i]):\n",
      "                    max_[i] = point[i]\n",
      "                if(min_[i] > point[i]):\n",
      "                    min_[i] = point[i]\n",
      "        \n",
      "        # We need to store the maximum diameter of any cluster for a given label\n",
      "        diameters[k] = max(diameters[k], norm(max_ - min_))\n",
      "        \n",
      "    print diameters[k], '\\n'"
     ],
     "language": "python",
     "metadata": {},
     "outputs": [
      {
       "output_type": "stream",
       "stream": "stdout",
       "text": [
        "\n",
        ".. Bounding boxes...\n",
        "0 28.0\n",
        "[ 20.49512683]"
       ]
      },
      {
       "output_type": "stream",
       "stream": "stdout",
       "text": [
        " \n",
        "\n",
        "1 27.0\n",
        "[ 23.66662362]"
       ]
      },
      {
       "output_type": "stream",
       "stream": "stdout",
       "text": [
        " \n",
        "\n",
        "2 22.0\n",
        "[ 20.54220659]"
       ]
      },
      {
       "output_type": "stream",
       "stream": "stdout",
       "text": [
        " \n",
        "\n",
        "3 21.0\n",
        "[ 23.45754487]"
       ]
      },
      {
       "output_type": "stream",
       "stream": "stdout",
       "text": [
        " \n",
        "\n",
        "4 20.0\n",
        "[ 23.60521851]"
       ]
      },
      {
       "output_type": "stream",
       "stream": "stdout",
       "text": [
        " \n",
        "\n",
        "5 19.0\n",
        "[ 25.33004943]"
       ]
      },
      {
       "output_type": "stream",
       "stream": "stdout",
       "text": [
        " \n",
        "\n",
        "6 26.0\n",
        "[ 20.54220659]"
       ]
      },
      {
       "output_type": "stream",
       "stream": "stdout",
       "text": [
        " \n",
        "\n",
        "7 25.0\n",
        "[ 20.54220659]"
       ]
      },
      {
       "output_type": "stream",
       "stream": "stdout",
       "text": [
        " \n",
        "\n",
        "8 24.0\n",
        "[ 20.54220659]"
       ]
      },
      {
       "output_type": "stream",
       "stream": "stdout",
       "text": [
        " \n",
        "\n",
        "9 23.0\n",
        "[ 20.51737964]"
       ]
      },
      {
       "output_type": "stream",
       "stream": "stdout",
       "text": [
        " \n",
        "\n",
        "10 15.0\n",
        "[ 27.2765577]"
       ]
      },
      {
       "output_type": "stream",
       "stream": "stdout",
       "text": [
        " \n",
        "\n",
        "11 16.0\n",
        "[ 25.35991807]"
       ]
      },
      {
       "output_type": "stream",
       "stream": "stdout",
       "text": [
        " \n",
        "\n",
        "12 29.0\n",
        "[ 20.54220659]"
       ]
      },
      {
       "output_type": "stream",
       "stream": "stdout",
       "text": [
        " \n",
        "\n",
        "13 17.0\n",
        "[ 23.6964267]"
       ]
      },
      {
       "output_type": "stream",
       "stream": "stdout",
       "text": [
        " \n",
        "\n",
        "14 18.0\n",
        "[ 25.63202714]"
       ]
      },
      {
       "output_type": "stream",
       "stream": "stdout",
       "text": [
        " \n",
        "\n",
        "15 0.0\n",
        "[ 30.56010217]"
       ]
      },
      {
       "output_type": "stream",
       "stream": "stdout",
       "text": [
        " \n",
        "\n"
       ]
      }
     ],
     "prompt_number": 49
    },
    {
     "cell_type": "code",
     "collapsed": false,
     "input": [
      "# Calculate MSE, as given in the sample code\n",
      "# MSE is from cluster centroids\n",
      "mse_list = np.zeros((N, 1))\n",
      "for k, label in enumerate(labels_list.T):\n",
      "#     print max(unique(label))\n",
      "    C = int(max(unique(label))) + 1\n",
      "    print k, C\n",
      "    \n",
      "    centroids = np.zeros((C, 97))\n",
      "    \n",
      "    centroids = np.array([train_data[label==i, :].mean(axis=0) for i in xrange(C)])\n",
      "    #print centroids.shape\n",
      "    for i in xrange(train_data.shape[0]):\n",
      "        temp = train_data[i, :] - centroids[label[i], :]\n",
      "        mse_list[k] = mse_list[k] + np.sum(temp ** 2)\n",
      "    \n",
      "    mse_list[k] = mse_list[k]/train_data.shape[0]"
     ],
     "language": "python",
     "metadata": {},
     "outputs": [
      {
       "output_type": "stream",
       "stream": "stdout",
       "text": [
        "0 29\n",
        "1"
       ]
      },
      {
       "output_type": "stream",
       "stream": "stdout",
       "text": [
        " 28\n",
        "2"
       ]
      },
      {
       "output_type": "stream",
       "stream": "stdout",
       "text": [
        " 23\n",
        "3"
       ]
      },
      {
       "output_type": "stream",
       "stream": "stdout",
       "text": [
        " 22\n",
        "4"
       ]
      },
      {
       "output_type": "stream",
       "stream": "stdout",
       "text": [
        " 21\n",
        "5"
       ]
      },
      {
       "output_type": "stream",
       "stream": "stdout",
       "text": [
        " 20\n",
        "6"
       ]
      },
      {
       "output_type": "stream",
       "stream": "stdout",
       "text": [
        " 27\n",
        "7"
       ]
      },
      {
       "output_type": "stream",
       "stream": "stdout",
       "text": [
        " 26\n",
        "8"
       ]
      },
      {
       "output_type": "stream",
       "stream": "stdout",
       "text": [
        " 25\n",
        "9"
       ]
      },
      {
       "output_type": "stream",
       "stream": "stdout",
       "text": [
        " 24\n",
        "10"
       ]
      },
      {
       "output_type": "stream",
       "stream": "stdout",
       "text": [
        " 16\n",
        "11"
       ]
      },
      {
       "output_type": "stream",
       "stream": "stdout",
       "text": [
        " 17\n",
        "12"
       ]
      },
      {
       "output_type": "stream",
       "stream": "stdout",
       "text": [
        " 30\n",
        "13"
       ]
      },
      {
       "output_type": "stream",
       "stream": "stdout",
       "text": [
        " 18\n",
        "14"
       ]
      },
      {
       "output_type": "stream",
       "stream": "stdout",
       "text": [
        " 19\n",
        "15"
       ]
      },
      {
       "output_type": "stream",
       "stream": "stdout",
       "text": [
        " 1\n"
       ]
      }
     ],
     "prompt_number": 15
    },
    {
     "cell_type": "code",
     "collapsed": false,
     "input": [
      "print \"\\n ... Separations ... \\n\"\n",
      "separation = np.zeros((N, 1))\n",
      "for k, label in enumerate(labels_list.transpose()):\n",
      "    #print unique(label)\n",
      "    C = int(max(unique(label)))\n",
      "#     print k, C\n",
      "    separation[k]= inf\n",
      "    \n",
      "    for i in xrange(C):\n",
      "        for j in xrange(i+1, C+1):\n",
      "            x_mu = cluster_data[label==i, :].mean(axis=0)\n",
      "            y_mu = cluster_data[label==j, :].mean(axis=0)\n",
      "            d = norm(x_mu - y_mu)\n",
      "            if(d<separation[k]):\n",
      "                separation[k] = d\n",
      "#     print separation[k], '\\n'"
     ],
     "language": "python",
     "metadata": {},
     "outputs": [
      {
       "output_type": "stream",
       "stream": "stdout",
       "text": [
        "\n",
        " ... Separations ... \n",
        "\n",
        "0 28\n",
        "[ 0.58180357]"
       ]
      },
      {
       "output_type": "stream",
       "stream": "stdout",
       "text": [
        " \n",
        "\n",
        "1 27\n",
        "[ 0.57468495]"
       ]
      },
      {
       "output_type": "stream",
       "stream": "stdout",
       "text": [
        " \n",
        "\n",
        "2 22\n",
        "[ 0.57186183]"
       ]
      },
      {
       "output_type": "stream",
       "stream": "stdout",
       "text": [
        " \n",
        "\n",
        "3 21\n",
        "[ 0.58165623]"
       ]
      },
      {
       "output_type": "stream",
       "stream": "stdout",
       "text": [
        " \n",
        "\n",
        "4 20\n",
        "[ 0.58154744]"
       ]
      },
      {
       "output_type": "stream",
       "stream": "stdout",
       "text": [
        " \n",
        "\n",
        "5 19\n",
        "[ 0.58123662]"
       ]
      },
      {
       "output_type": "stream",
       "stream": "stdout",
       "text": [
        " \n",
        "\n",
        "6 26\n",
        "[ 0.5829122]"
       ]
      },
      {
       "output_type": "stream",
       "stream": "stdout",
       "text": [
        " \n",
        "\n",
        "7 25\n",
        "[ 0.57782126]"
       ]
      },
      {
       "output_type": "stream",
       "stream": "stdout",
       "text": [
        " \n",
        "\n",
        "8 24\n",
        "[ 0.38157514]"
       ]
      },
      {
       "output_type": "stream",
       "stream": "stdout",
       "text": [
        " \n",
        "\n",
        "9 23\n",
        "[ 0.58170055]"
       ]
      },
      {
       "output_type": "stream",
       "stream": "stdout",
       "text": [
        " \n",
        "\n",
        "10 15\n",
        "[ 2.64081114]"
       ]
      },
      {
       "output_type": "stream",
       "stream": "stdout",
       "text": [
        " \n",
        "\n",
        "11 16\n",
        "[ 2.29216603]"
       ]
      },
      {
       "output_type": "stream",
       "stream": "stdout",
       "text": [
        " \n",
        "\n",
        "12 29\n",
        "[ 0.58614582]"
       ]
      },
      {
       "output_type": "stream",
       "stream": "stdout",
       "text": [
        " \n",
        "\n",
        "13 17\n",
        "[ 2.47169726]"
       ]
      },
      {
       "output_type": "stream",
       "stream": "stdout",
       "text": [
        " \n",
        "\n",
        "14 18\n",
        "[ 0.58482103]"
       ]
      },
      {
       "output_type": "stream",
       "stream": "stdout",
       "text": [
        " \n",
        "\n",
        "15 0\n",
        "[ inf] \n",
        "\n"
       ]
      }
     ],
     "prompt_number": 50
    },
    {
     "cell_type": "code",
     "collapsed": false,
     "input": [
      "confusion = [max(unique(labels_list[:, i])) for i in xrange(N-1)]\n",
      "print confusion \n",
      "figure();\n",
      "scatter(confusion, diameters[:-1])\n",
      "# figure();\n",
      "scatter(confusion, np.array(separation[:-1]), c='g')\n",
      "\n",
      "dunn = [separation[i] / diameters[i] for i in xrange(N-1)]\n",
      "# figure()\n",
      "scatter(confusion, np.array(dunn), c='r')"
     ],
     "language": "python",
     "metadata": {},
     "outputs": [
      {
       "output_type": "stream",
       "stream": "stdout",
       "text": [
        "[28.0, 27.0, 22.0, 21.0, 20.0, 19.0, 26.0, 25.0, 24.0, 23.0, 15.0, 16.0, 29.0, 17.0, 18.0]\n"
       ]
      },
      {
       "metadata": {},
       "output_type": "pyout",
       "prompt_number": 53,
       "text": [
        "<matplotlib.collections.PathCollection at 0x7fa3887735d0>"
       ]
      },
      {
       "metadata": {},
       "output_type": "display_data",
       "png": "[encoded data removed]",
       "text": [
        "<matplotlib.figure.Figure at 0x7fa388b01f50>"
       ]
      }
     ],
     "prompt_number": 53
    },
    {
     "cell_type": "markdown",
     "metadata": {},
     "source": [
      "final_kmeans = np.zeros((N-1, 4))\n",
      "final_kmeans[:, 0] = confusion\n",
      "final_kmeans[:, 1] = diameters[:-1, 0]\n",
      "final_kmeans[:, 2] = separation[:-1, 0]\n",
      "final_kmeans[:, 3] = dunn\n",
      "final_kmeans = np.array(final_kmeans)\n",
      "np.save('/root/kmeans_16_30', final_kmeans)"
     ]
    },
    {
     "cell_type": "markdown",
     "metadata": {},
     "source": [
      "# VALIDATION FOR C++ CODE"
     ]
    },
    {
     "cell_type": "code",
     "collapsed": true,
     "input": [
      "from os import listdir\n",
      "import csv\n",
      "import re"
     ],
     "language": "python",
     "metadata": {},
     "outputs": [],
     "prompt_number": 3
    },
    {
     "cell_type": "code",
     "collapsed": false,
     "input": [
      "file_list = listdir('/root/code/intel/labels')\n",
      "n_files = len(file_list)"
     ],
     "language": "python",
     "metadata": {},
     "outputs": [],
     "prompt_number": 21
    },
    {
     "cell_type": "code",
     "collapsed": false,
     "input": [
      "# Calculate MSE, as given in the sample code\n",
      "# MSE is from cluster centroids\n",
      "def get_mse(train_data, label):\n",
      "        C = int(max(unique(label))) + 1\n",
      "        #print k, C\n",
      "\n",
      "        mse = 0.0\n",
      "        centroids = np.array([train_data[label==i, :].mean(axis=0) for i in xrange(C)])\n",
      "        #print centroids.shape\n",
      "        for i in xrange(train_data.shape[0]):\n",
      "            temp = train_data[i, :] - centroids[label[i], :]\n",
      "            mse = mse + np.sum(temp ** 2)\n",
      "\n",
      "        mse = mse/train_data.shape[0]\n",
      "        return mse"
     ],
     "language": "python",
     "metadata": {},
     "outputs": [],
     "prompt_number": 4
    },
    {
     "cell_type": "code",
     "collapsed": false,
     "input": [
      "min(enumerate(mse_list), key=lambda x: x[1])"
     ],
     "language": "python",
     "metadata": {},
     "outputs": [
      {
       "metadata": {},
       "output_type": "pyout",
       "prompt_number": 43,
       "text": [
        "(372, array([ 7.99607568]))"
       ]
      }
     ],
     "prompt_number": 43
    },
    {
     "cell_type": "code",
     "collapsed": false,
     "input": [
      "mse_list = np.zeros((n_files, 1))\n",
      "for k, file_name in enumerate(file_list[:]):\n",
      "    with open('/root/code/intel/labels/' + file_name) as csvfile:\n",
      "        label = np.array(re.split(r',', csvfile.readline())[:-1], dtype=int)\n",
      "        mse_list[k] = get_mse(train_data, label)\n",
      "        print k, mse_list[k], file_name"
     ],
     "language": "python",
     "metadata": {},
     "outputs": [
      {
       "output_type": "stream",
       "stream": "stdout",
       "text": [
        "0 [ 15.0679142] clabels_25_594112284.csv\n",
        "1"
       ]
      },
      {
       "output_type": "stream",
       "stream": "stdout",
       "text": [
        " [ 15.0679142] clabels_28_324886172.csv\n",
        "2"
       ]
      },
      {
       "output_type": "stream",
       "stream": "stdout",
       "text": [
        " [ 15.0679142] clabels_21_1864460817.csv\n",
        "3"
       ]
      },
      {
       "output_type": "stream",
       "stream": "stdout",
       "text": [
        " [ 8.6348118] clabels_28_709041556.csv\n",
        "4"
       ]
      },
      {
       "output_type": "stream",
       "stream": "stdout",
       "text": [
        " [ 9.31500538] clabels_28_497760856.csv\n",
        "5"
       ]
      },
      {
       "output_type": "stream",
       "stream": "stdout",
       "text": [
        " [ 15.0679142] clabels_24_1603209626.csv\n",
        "6"
       ]
      },
      {
       "output_type": "stream",
       "stream": "stdout",
       "text": [
        " [ 9.61040986] clabels_505640370.csv\n",
        "7"
       ]
      },
      {
       "output_type": "stream",
       "stream": "stdout",
       "text": [
        " [ 9.28563632] clabels_22_2070520166.csv\n",
        "8"
       ]
      },
      {
       "output_type": "stream",
       "stream": "stdout",
       "text": [
        " [ 8.84999239] clabels_24_1641846618.csv\n",
        "9"
       ]
      },
      {
       "output_type": "stream",
       "stream": "stdout",
       "text": [
        " [ 9.55303255] clabels_28_1704999516.csv\n",
        "10"
       ]
      },
      {
       "output_type": "stream",
       "stream": "stdout",
       "text": [
        " [ 15.0679142] clabels_19_1683103728.csv\n",
        "11"
       ]
      },
      {
       "output_type": "stream",
       "stream": "stdout",
       "text": [
        " [ 10.22466841] clabels_22_233309335.csv\n",
        "12"
       ]
      },
      {
       "output_type": "stream",
       "stream": "stdout",
       "text": [
        " [ 15.0679142] clabels_26_414977567.csv\n",
        "13"
       ]
      },
      {
       "output_type": "stream",
       "stream": "stdout",
       "text": [
        " [ 15.0679142] clabels_15_1708692446.csv\n",
        "14"
       ]
      },
      {
       "output_type": "stream",
       "stream": "stdout",
       "text": [
        " [ 15.0679142] clabels_20_1787511332.csv\n",
        "15"
       ]
      },
      {
       "output_type": "stream",
       "stream": "stdout",
       "text": [
        " [ 15.0679142] clabels_22_1883156625.csv\n",
        "16"
       ]
      },
      {
       "output_type": "stream",
       "stream": "stdout",
       "text": [
        " [ 10.99794643] clabels_15_1131909122.csv\n",
        "17"
       ]
      },
      {
       "output_type": "stream",
       "stream": "stdout",
       "text": [
        " [ 9.1584873] clabels_26_844803736.csv\n",
        "18"
       ]
      },
      {
       "output_type": "stream",
       "stream": "stdout",
       "text": [
        " [ 15.0679142] clabels_16_961483157.csv\n",
        "19"
       ]
      },
      {
       "output_type": "stream",
       "stream": "stdout",
       "text": [
        " [ 8.78780037] clabels_28_1601815701.csv\n",
        "20"
       ]
      },
      {
       "output_type": "stream",
       "stream": "stdout",
       "text": [
        " [ 9.54296647] clabels_27_657545559.csv\n",
        "21"
       ]
      },
      {
       "output_type": "stream",
       "stream": "stdout",
       "text": [
        " [ 15.0679142] clabels_23_1947318076.csv\n",
        "22"
       ]
      },
      {
       "output_type": "stream",
       "stream": "stdout",
       "text": [
        " [ 10.25523288] clabels_24_551041615.csv\n",
        "23"
       ]
      },
      {
       "output_type": "stream",
       "stream": "stdout",
       "text": [
        " [ 10.35488236] clabels_17_2049798761.csv\n",
        "24"
       ]
      },
      {
       "output_type": "stream",
       "stream": "stdout",
       "text": [
        " [ 9.90797288] clabels_24_1926526430.csv\n",
        "25"
       ]
      },
      {
       "output_type": "stream",
       "stream": "stdout",
       "text": [
        " [ 10.32502686] clabels_18_1591071396.csv\n",
        "26"
       ]
      },
      {
       "output_type": "stream",
       "stream": "stdout",
       "text": [
        " [ 15.0679142] clabels_22_929373881.csv\n",
        "27"
       ]
      },
      {
       "output_type": "stream",
       "stream": "stdout",
       "text": [
        " [ 9.15069555] clabels_20_1183737322.csv\n",
        "28"
       ]
      },
      {
       "output_type": "stream",
       "stream": "stdout",
       "text": [
        " [ 15.0679142] clabels_22_113974629.csv\n",
        "29"
       ]
      },
      {
       "output_type": "stream",
       "stream": "stdout",
       "text": [
        " [ 10.2171352] clabels_16_1078377664.csv\n",
        "30"
       ]
      },
      {
       "output_type": "stream",
       "stream": "stdout",
       "text": [
        " [ 15.0679142] clabels_29_1562030080.csv\n",
        "31"
       ]
      },
      {
       "output_type": "stream",
       "stream": "stdout",
       "text": [
        " [ 15.0679142] clabels_17_121468165.csv\n",
        "32"
       ]
      },
      {
       "output_type": "stream",
       "stream": "stdout",
       "text": [
        " [ 15.0679142] clabels_20_1093521396.csv\n",
        "33"
       ]
      },
      {
       "output_type": "stream",
       "stream": "stdout",
       "text": [
        " [ 10.87086991] clabels_15_488378007.csv\n",
        "34"
       ]
      },
      {
       "output_type": "stream",
       "stream": "stdout",
       "text": [
        " [ 15.0679142] clabels_21_1180140338.csv\n",
        "35"
       ]
      },
      {
       "output_type": "stream",
       "stream": "stdout",
       "text": [
        " [ 15.0679142] clabels_26_257067048.csv\n",
        "36"
       ]
      },
      {
       "output_type": "stream",
       "stream": "stdout",
       "text": [
        " [ 11.45939438] clabels_16_1445057287.csv\n",
        "37"
       ]
      },
      {
       "output_type": "stream",
       "stream": "stdout",
       "text": [
        " [ 10.24340388] clabels_468603734.csv\n",
        "38"
       ]
      },
      {
       "output_type": "stream",
       "stream": "stdout",
       "text": [
        " [ 9.52724211] clabels_17_1738338628.csv\n",
        "39"
       ]
      },
      {
       "output_type": "stream",
       "stream": "stdout",
       "text": [
        " [ 9.19120495] clabels_29_1396518561.csv\n",
        "40"
       ]
      },
      {
       "output_type": "stream",
       "stream": "stdout",
       "text": [
        " [ 10.21690293] clabels_18_1919647523.csv\n",
        "41"
       ]
      },
      {
       "output_type": "stream",
       "stream": "stdout",
       "text": [
        " [ 15.0679142] clabels_27_153351873.csv\n",
        "42"
       ]
      },
      {
       "output_type": "stream",
       "stream": "stdout",
       "text": [
        " [ 8.86067864] clabels_23_583089756.csv\n",
        "43"
       ]
      },
      {
       "output_type": "stream",
       "stream": "stdout",
       "text": [
        " [ 9.46259415] clabels_24_1921068482.csv\n",
        "44"
       ]
      },
      {
       "output_type": "stream",
       "stream": "stdout",
       "text": [
        " [ 15.0679142] clabels_27_1255473944.csv\n",
        "45"
       ]
      },
      {
       "output_type": "stream",
       "stream": "stdout",
       "text": [
        " [ 15.0679142] clabels_22_314718624.csv\n",
        "46"
       ]
      },
      {
       "output_type": "stream",
       "stream": "stdout",
       "text": [
        " [ 10.15824336] clabels_23_2012684295.csv\n",
        "47"
       ]
      },
      {
       "output_type": "stream",
       "stream": "stdout",
       "text": [
        " [ 15.0679142] clabels_18_823953760.csv\n",
        "48"
       ]
      },
      {
       "output_type": "stream",
       "stream": "stdout",
       "text": [
        " [ 15.0679142] clabels_19_2120406758.csv\n",
        "49"
       ]
      },
      {
       "output_type": "stream",
       "stream": "stdout",
       "text": [
        " [ 15.0679142] clabels_28_768427169.csv\n",
        "50"
       ]
      },
      {
       "output_type": "stream",
       "stream": "stdout",
       "text": [
        " [ 11.36760493] clabels_18_1471337179.csv\n",
        "51"
       ]
      },
      {
       "output_type": "stream",
       "stream": "stdout",
       "text": [
        " [ 15.0679142] clabels_26_2034540161.csv\n",
        "52"
       ]
      },
      {
       "output_type": "stream",
       "stream": "stdout",
       "text": [
        " [ 10.31207086] clabels_19_1763476600.csv\n",
        "53"
       ]
      },
      {
       "output_type": "stream",
       "stream": "stdout",
       "text": [
        " [ 8.63746746] clabels_23_1964306939.csv\n",
        "54"
       ]
      },
      {
       "output_type": "stream",
       "stream": "stdout",
       "text": [
        " [ 15.0679142] clabels_15_1807573234.csv\n",
        "55"
       ]
      },
      {
       "output_type": "stream",
       "stream": "stdout",
       "text": [
        " [ 9.2256103] clabels_29_389005781.csv\n",
        "56"
       ]
      },
      {
       "output_type": "stream",
       "stream": "stdout",
       "text": [
        " [ 9.57205155] clabels_21_394626011.csv\n",
        "57"
       ]
      },
      {
       "output_type": "stream",
       "stream": "stdout",
       "text": [
        " [ 15.0679142] clabels_20_629146365.csv\n",
        "58"
       ]
      },
      {
       "output_type": "stream",
       "stream": "stdout",
       "text": [
        " [ 8.51936932] clabels_26_1017994522.csv\n",
        "59"
       ]
      },
      {
       "output_type": "stream",
       "stream": "stdout",
       "text": [
        " [ 8.85926799] clabels_24_1445165335.csv\n",
        "60"
       ]
      },
      {
       "output_type": "stream",
       "stream": "stdout",
       "text": [
        " [ 9.86486313] clabels_23_1500654238.csv\n",
        "61"
       ]
      },
      {
       "output_type": "stream",
       "stream": "stdout",
       "text": [
        " [ 15.0679142] clabels_22_1966458005.csv\n",
        "62"
       ]
      },
      {
       "output_type": "stream",
       "stream": "stdout",
       "text": [
        " [ 15.0679142] clabels_25_1524583808.csv\n",
        "63"
       ]
      },
      {
       "output_type": "stream",
       "stream": "stdout",
       "text": [
        " [ 15.0679142] clabels_25_996542715.csv\n",
        "64"
       ]
      },
      {
       "output_type": "stream",
       "stream": "stdout",
       "text": [
        " [ 10.6377379] clabels_19_341965679.csv\n",
        "65"
       ]
      },
      {
       "output_type": "stream",
       "stream": "stdout",
       "text": [
        " [ 10.61442116] clabels_26_1664368689.csv\n",
        "66"
       ]
      },
      {
       "output_type": "stream",
       "stream": "stdout",
       "text": [
        " [ 15.0679142] clabels_24_485657446.csv\n",
        "67"
       ]
      },
      {
       "output_type": "stream",
       "stream": "stdout",
       "text": [
        " [ 15.0679142] clabels_28_1442666901.csv\n",
        "68"
       ]
      },
      {
       "output_type": "stream",
       "stream": "stdout",
       "text": [
        " [ 15.0679142] clabels_23_1586540134.csv\n",
        "69"
       ]
      },
      {
       "output_type": "stream",
       "stream": "stdout",
       "text": [
        " [ 15.0679142] clabels_16_1482777946.csv\n",
        "70"
       ]
      },
      {
       "output_type": "stream",
       "stream": "stdout",
       "text": [
        " [ 15.0679142] clabels_16_617305545.csv\n",
        "71"
       ]
      },
      {
       "output_type": "stream",
       "stream": "stdout",
       "text": [
        " [ 9.92850853] clabels_19_363726035.csv\n",
        "72"
       ]
      },
      {
       "output_type": "stream",
       "stream": "stdout",
       "text": [
        " [ 15.0679142] clabels_29_45190849.csv\n",
        "73"
       ]
      },
      {
       "output_type": "stream",
       "stream": "stdout",
       "text": [
        " [ 7.9994562] clabels_24_604857101.csv\n",
        "74"
       ]
      },
      {
       "output_type": "stream",
       "stream": "stdout",
       "text": [
        " [ 15.0679142] clabels_22_232367611.csv\n",
        "75"
       ]
      },
      {
       "output_type": "stream",
       "stream": "stdout",
       "text": [
        " [ 9.18171997] clabels_26_1162564763.csv\n",
        "76"
       ]
      },
      {
       "output_type": "stream",
       "stream": "stdout",
       "text": [
        " [ 9.84109958] clabels_26_481188790.csv\n",
        "77"
       ]
      },
      {
       "output_type": "stream",
       "stream": "stdout",
       "text": [
        " [ 15.0679142] clabels_28_1512540992.csv\n",
        "78"
       ]
      },
      {
       "output_type": "stream",
       "stream": "stdout",
       "text": [
        " [ 10.67976705] clabels_18_1908115926.csv\n",
        "79"
       ]
      },
      {
       "output_type": "stream",
       "stream": "stdout",
       "text": [
        " [ 15.0679142] clabels_20_1516964316.csv\n",
        "80"
       ]
      },
      {
       "output_type": "stream",
       "stream": "stdout",
       "text": [
        " [ 9.88680072] clabels_27_1222216912.csv\n",
        "81"
       ]
      },
      {
       "output_type": "stream",
       "stream": "stdout",
       "text": [
        " [ 15.0679142] clabels_19_396030471.csv\n",
        "82"
       ]
      },
      {
       "output_type": "stream",
       "stream": "stdout",
       "text": [
        " [ 15.0679142] clabels_21_560370922.csv\n",
        "83"
       ]
      },
      {
       "output_type": "stream",
       "stream": "stdout",
       "text": [
        " [ 15.0679142] clabels_29_233413065.csv\n",
        "84"
       ]
      },
      {
       "output_type": "stream",
       "stream": "stdout",
       "text": [
        " [ 15.0679142] clabels_26_2074557668.csv\n",
        "85"
       ]
      },
      {
       "output_type": "stream",
       "stream": "stdout",
       "text": [
        " [ 15.0679142] clabels_18_1384465873.csv\n",
        "86"
       ]
      },
      {
       "output_type": "stream",
       "stream": "stdout",
       "text": [
        " [ 9.84907534] clabels_17_2018931333.csv\n",
        "87"
       ]
      },
      {
       "output_type": "stream",
       "stream": "stdout",
       "text": [
        " [ 9.71424324] clabels_29_1967383186.csv\n",
        "88"
       ]
      },
      {
       "output_type": "stream",
       "stream": "stdout",
       "text": [
        " [ 15.0679142] clabels_20_33859096.csv\n",
        "89"
       ]
      },
      {
       "output_type": "stream",
       "stream": "stdout",
       "text": [
        " [ 15.0679142] clabels_22_1541642119.csv\n",
        "90"
       ]
      },
      {
       "output_type": "stream",
       "stream": "stdout",
       "text": [
        " [ 10.2515029] clabels_20_2116276208.csv\n",
        "91"
       ]
      },
      {
       "output_type": "stream",
       "stream": "stdout",
       "text": [
        " [ 15.0679142] clabels_22_1477904469.csv\n",
        "92"
       ]
      },
      {
       "output_type": "stream",
       "stream": "stdout",
       "text": [
        " [ 10.2305013] clabels_16_1934765582.csv\n",
        "93"
       ]
      },
      {
       "output_type": "stream",
       "stream": "stdout",
       "text": [
        " [ 9.55119748] clabels_26_618258462.csv\n",
        "94"
       ]
      },
      {
       "output_type": "stream",
       "stream": "stdout",
       "text": [
        " [ 11.31656765] clabels_15_477668313.csv\n",
        "95"
       ]
      },
      {
       "output_type": "stream",
       "stream": "stdout",
       "text": [
        " [ 15.0679142] clabels_18_1629398531.csv\n",
        "96"
       ]
      },
      {
       "output_type": "stream",
       "stream": "stdout",
       "text": [
        " [ 11.32672898] clabels_15_804489736.csv\n",
        "97"
       ]
      },
      {
       "output_type": "stream",
       "stream": "stdout",
       "text": [
        " [ 9.49293389] clabels_22_1187474228.csv\n",
        "98"
       ]
      },
      {
       "output_type": "stream",
       "stream": "stdout",
       "text": [
        " [ 15.0679142] clabels_19_2039970390.csv\n",
        "99"
       ]
      },
      {
       "output_type": "stream",
       "stream": "stdout",
       "text": [
        " [ 15.0679142] clabels_22_1074366153.csv\n",
        "100"
       ]
      },
      {
       "output_type": "stream",
       "stream": "stdout",
       "text": [
        " [ 10.25905593] clabels_21_1045096625.csv\n",
        "101"
       ]
      },
      {
       "output_type": "stream",
       "stream": "stdout",
       "text": [
        " [ 15.0679142] clabels_16_670100665.csv\n",
        "102"
       ]
      },
      {
       "output_type": "stream",
       "stream": "stdout",
       "text": [
        " [ 15.0679142] clabels_15_261860565.csv\n",
        "103"
       ]
      },
      {
       "output_type": "stream",
       "stream": "stdout",
       "text": [
        " [ 15.0679142] clabels_22_780037615.csv\n",
        "104"
       ]
      },
      {
       "output_type": "stream",
       "stream": "stdout",
       "text": [
        " [ 8.86447704] clabels_28_32082546.csv\n",
        "105"
       ]
      },
      {
       "output_type": "stream",
       "stream": "stdout",
       "text": [
        " [ 15.0679142] clabels_17_1724376287.csv\n",
        "106"
       ]
      },
      {
       "output_type": "stream",
       "stream": "stdout",
       "text": [
        " [ 15.0679142] clabels_29_1270027302.csv\n",
        "107"
       ]
      },
      {
       "output_type": "stream",
       "stream": "stdout",
       "text": [
        " [ 9.15289467] clabels_19_719329215.csv\n",
        "108"
       ]
      },
      {
       "output_type": "stream",
       "stream": "stdout",
       "text": [
        " [ 10.24258756] clabels_23_523428610.csv\n",
        "109"
       ]
      },
      {
       "output_type": "stream",
       "stream": "stdout",
       "text": [
        " [ 15.0679142] clabels_29_1863207224.csv\n",
        "110"
       ]
      },
      {
       "output_type": "stream",
       "stream": "stdout",
       "text": [
        " [ 10.63704126] clabels_16_1531678390.csv\n",
        "111"
       ]
      },
      {
       "output_type": "stream",
       "stream": "stdout",
       "text": [
        " [ 15.0679142] clabels_19_1975796056.csv\n",
        "112"
       ]
      },
      {
       "output_type": "stream",
       "stream": "stdout",
       "text": [
        " [ 8.30113693] clabels_27_388220095.csv\n",
        "113"
       ]
      },
      {
       "output_type": "stream",
       "stream": "stdout",
       "text": [
        " [ 9.23291854] clabels_23_410207308.csv\n",
        "114"
       ]
      },
      {
       "output_type": "stream",
       "stream": "stdout",
       "text": [
        " [ 9.15911766] clabels_23_466408203.csv\n",
        "115"
       ]
      },
      {
       "output_type": "stream",
       "stream": "stdout",
       "text": [
        " [ 15.0679142] clabels_29_773865514.csv\n",
        "116"
       ]
      },
      {
       "output_type": "stream",
       "stream": "stdout",
       "text": [
        " [ 9.52922053] clabels_23_753810307.csv\n",
        "117"
       ]
      },
      {
       "output_type": "stream",
       "stream": "stdout",
       "text": [
        " [ 15.0679142] clabels_25_7562196.csv\n",
        "118"
       ]
      },
      {
       "output_type": "stream",
       "stream": "stdout",
       "text": [
        " [ 15.0679142] clabels_15_1002003010.csv\n",
        "119"
       ]
      },
      {
       "output_type": "stream",
       "stream": "stdout",
       "text": [
        " [ 9.83356556] clabels_16_1402304786.csv\n",
        "120"
       ]
      },
      {
       "output_type": "stream",
       "stream": "stdout",
       "text": [
        " [ 9.87121846] clabels_20_2129647398.csv\n",
        "121"
       ]
      },
      {
       "output_type": "stream",
       "stream": "stdout",
       "text": [
        " [ 15.0679142] clabels_15_588638333.csv\n",
        "122"
       ]
      },
      {
       "output_type": "stream",
       "stream": "stdout",
       "text": [
        " [ 15.0679142] clabels_24_1963561915.csv\n",
        "123"
       ]
      },
      {
       "output_type": "stream",
       "stream": "stdout",
       "text": [
        " [ 15.0679142] clabels_26_207777403.csv\n",
        "124"
       ]
      },
      {
       "output_type": "stream",
       "stream": "stdout",
       "text": [
        " [ 10.93219075] clabels_18_831473970.csv\n",
        "125"
       ]
      },
      {
       "output_type": "stream",
       "stream": "stdout",
       "text": [
        " [ 9.58641435] clabels_22_1103872117.csv\n",
        "126"
       ]
      },
      {
       "output_type": "stream",
       "stream": "stdout",
       "text": [
        " [ 10.98209427] clabels_21_1169797900.csv\n",
        "127"
       ]
      },
      {
       "output_type": "stream",
       "stream": "stdout",
       "text": [
        " [ 10.23749522] clabels_22_1618194442.csv\n",
        "128"
       ]
      },
      {
       "output_type": "stream",
       "stream": "stdout",
       "text": [
        " [ 15.0679142] clabels_19_98104909.csv\n",
        "129"
       ]
      },
      {
       "output_type": "stream",
       "stream": "stdout",
       "text": [
        " [ 15.0679142] clabels_23_137283814.csv\n",
        "130"
       ]
      },
      {
       "output_type": "stream",
       "stream": "stdout",
       "text": [
        " [ 9.5610933] clabels_27_123034005.csv\n",
        "131"
       ]
      },
      {
       "output_type": "stream",
       "stream": "stdout",
       "text": [
        " [ 15.0679142] clabels_20_575756148.csv\n",
        "132"
       ]
      },
      {
       "output_type": "stream",
       "stream": "stdout",
       "text": [
        " [ 15.0679142] clabels_24_1059642365.csv\n",
        "133"
       ]
      },
      {
       "output_type": "stream",
       "stream": "stdout",
       "text": [
        " [ 15.0679142] clabels_22_1749666887.csv\n",
        "134"
       ]
      },
      {
       "output_type": "stream",
       "stream": "stdout",
       "text": [
        " [ 15.0679142] clabels_23_611563408.csv\n",
        "135"
       ]
      },
      {
       "output_type": "stream",
       "stream": "stdout",
       "text": [
        " [ 10.29343659] clabels_16_18220440.csv\n",
        "136"
       ]
      },
      {
       "output_type": "stream",
       "stream": "stdout",
       "text": [
        " [ 9.49264584] clabels_19_1658317614.csv\n",
        "137"
       ]
      },
      {
       "output_type": "stream",
       "stream": "stdout",
       "text": [
        " [ 15.0679142] clabels_19_1682214356.csv\n",
        "138"
       ]
      },
      {
       "output_type": "stream",
       "stream": "stdout",
       "text": [
        " [ 15.0679142] clabels_28_2053594380.csv\n",
        "139"
       ]
      },
      {
       "output_type": "stream",
       "stream": "stdout",
       "text": [
        " [ 9.15812286] clabels_29_173976238.csv\n",
        "140"
       ]
      },
      {
       "output_type": "stream",
       "stream": "stdout",
       "text": [
        " [ 10.68834554] clabels_16_1183071542.csv\n",
        "141"
       ]
      },
      {
       "output_type": "stream",
       "stream": "stdout",
       "text": [
        " [ 15.0679142] clabels_21_1052584396.csv\n",
        "142"
       ]
      },
      {
       "output_type": "stream",
       "stream": "stdout",
       "text": [
        " [ 10.63358958] clabels_23_1127034146.csv\n",
        "143"
       ]
      },
      {
       "output_type": "stream",
       "stream": "stdout",
       "text": [
        " [ 9.81365676] clabels_23_881945381.csv\n",
        "144"
       ]
      },
      {
       "output_type": "stream",
       "stream": "stdout",
       "text": [
        " [ 15.0679142] clabels_24_2118920219.csv\n",
        "145"
       ]
      },
      {
       "output_type": "stream",
       "stream": "stdout",
       "text": [
        " [ 15.0679142] clabels_17_1258738998.csv\n",
        "146"
       ]
      },
      {
       "output_type": "stream",
       "stream": "stdout",
       "text": [
        " [ 15.0679142] clabels_21_1051135582.csv\n",
        "147"
       ]
      },
      {
       "output_type": "stream",
       "stream": "stdout",
       "text": [
        " [ 10.99793527] clabels_15_1815419459.csv\n",
        "148"
       ]
      },
      {
       "output_type": "stream",
       "stream": "stdout",
       "text": [
        " [ 10.91418511] clabels_18_1408707700.csv\n",
        "149"
       ]
      },
      {
       "output_type": "stream",
       "stream": "stdout",
       "text": [
        " [ 11.23285351] clabels_17_1211786815.csv\n",
        "150"
       ]
      },
      {
       "output_type": "stream",
       "stream": "stdout",
       "text": [
        " [ 9.17025702] clabels_22_621980138.csv\n",
        "151"
       ]
      },
      {
       "output_type": "stream",
       "stream": "stdout",
       "text": [
        " [ 9.12912513] clabels_29_690108564.csv\n",
        "152"
       ]
      },
      {
       "output_type": "stream",
       "stream": "stdout",
       "text": [
        " [ 15.0679142] clabels_26_375992564.csv\n",
        "153"
       ]
      },
      {
       "output_type": "stream",
       "stream": "stdout",
       "text": [
        " [ 10.63174477] clabels_17_161131064.csv\n",
        "154"
       ]
      },
      {
       "output_type": "stream",
       "stream": "stdout",
       "text": [
        " [ 15.0679142] clabels_29_386764938.csv\n",
        "155"
       ]
      },
      {
       "output_type": "stream",
       "stream": "stdout",
       "text": [
        " [ 9.26798876] clabels_26_1708404165.csv\n",
        "156"
       ]
      },
      {
       "output_type": "stream",
       "stream": "stdout",
       "text": [
        " [ 8.65935323] clabels_26_1462911260.csv\n",
        "157"
       ]
      },
      {
       "output_type": "stream",
       "stream": "stdout",
       "text": [
        " [ 15.0679142] clabels_19_219771480.csv\n",
        "158"
       ]
      },
      {
       "output_type": "stream",
       "stream": "stdout",
       "text": [
        " [ 9.36855532] clabels_461809247.csv\n",
        "159"
       ]
      },
      {
       "output_type": "stream",
       "stream": "stdout",
       "text": [
        " [ 9.56502734] clabels_21_2001154675.csv\n",
        "160"
       ]
      },
      {
       "output_type": "stream",
       "stream": "stdout",
       "text": [
        " [ 9.33035846] clabels_1345528129.csv\n",
        "161"
       ]
      },
      {
       "output_type": "stream",
       "stream": "stdout",
       "text": [
        " [ 15.0679142] clabels_18_2053227370.csv\n",
        "162"
       ]
      },
      {
       "output_type": "stream",
       "stream": "stdout",
       "text": [
        " [ 15.0679142] clabels_21_1891537706.csv\n",
        "163"
       ]
      },
      {
       "output_type": "stream",
       "stream": "stdout",
       "text": [
        " [ 15.0679142] clabels_28_117108769.csv\n",
        "164"
       ]
      },
      {
       "output_type": "stream",
       "stream": "stdout",
       "text": [
        " [ 8.62964931] clabels_20_497369455.csv\n",
        "165"
       ]
      },
      {
       "output_type": "stream",
       "stream": "stdout",
       "text": [
        " [ 15.0679142] clabels_19_1444837778.csv\n",
        "166"
       ]
      },
      {
       "output_type": "stream",
       "stream": "stdout",
       "text": [
        " [ 15.0679142] clabels_16_1893999049.csv\n",
        "167"
       ]
      },
      {
       "output_type": "stream",
       "stream": "stdout",
       "text": [
        " [ 11.02932692] clabels_18_387867619.csv\n",
        "168"
       ]
      },
      {
       "output_type": "stream",
       "stream": "stdout",
       "text": [
        " [ 8.88321464] clabels_1596330460.csv\n",
        "169"
       ]
      },
      {
       "output_type": "stream",
       "stream": "stdout",
       "text": [
        " [ 15.0679142] clabels_25_836448825.csv\n",
        "170"
       ]
      },
      {
       "output_type": "stream",
       "stream": "stdout",
       "text": [
        " [ 15.0679142] clabels_15_1877492741.csv\n",
        "171"
       ]
      },
      {
       "output_type": "stream",
       "stream": "stdout",
       "text": [
        " [ 10.24967498] clabels_24_1746933311.csv\n",
        "172"
       ]
      },
      {
       "output_type": "stream",
       "stream": "stdout",
       "text": [
        " [ 15.0679142] clabels_23_811974754.csv\n",
        "173"
       ]
      },
      {
       "output_type": "stream",
       "stream": "stdout",
       "text": [
        " [ 10.7515324] clabels_17_453887518.csv\n",
        "174"
       ]
      },
      {
       "output_type": "stream",
       "stream": "stdout",
       "text": [
        " [ 9.04250822] clabels_28_392837011.csv\n",
        "175"
       ]
      },
      {
       "output_type": "stream",
       "stream": "stdout",
       "text": [
        " [ 15.0679142] clabels_15_1374350795.csv\n",
        "176"
       ]
      },
      {
       "output_type": "stream",
       "stream": "stdout",
       "text": [
        " [ 15.0679142] clabels_26_991231086.csv\n",
        "177"
       ]
      },
      {
       "output_type": "stream",
       "stream": "stdout",
       "text": [
        " [ 9.9405473] clabels_16_1485476018.csv\n",
        "178"
       ]
      },
      {
       "output_type": "stream",
       "stream": "stdout",
       "text": [
        " [ 15.0679142] clabels_28_13044983.csv\n",
        "179"
       ]
      },
      {
       "output_type": "stream",
       "stream": "stdout",
       "text": [
        " [ 15.0679142] clabels_25_2090791492.csv\n",
        "180"
       ]
      },
      {
       "output_type": "stream",
       "stream": "stdout",
       "text": [
        " [ 9.83000952] clabels_22_1650798.csv\n",
        "181"
       ]
      },
      {
       "output_type": "stream",
       "stream": "stdout",
       "text": [
        " [ 15.0679142] clabels_17_1123471175.csv\n",
        "182"
       ]
      },
      {
       "output_type": "stream",
       "stream": "stdout",
       "text": [
        " [ 15.0679142] clabels_20_1819296014.csv\n",
        "183"
       ]
      },
      {
       "output_type": "stream",
       "stream": "stdout",
       "text": [
        " [ 15.0679142] clabels_17_2146594276.csv\n",
        "184"
       ]
      },
      {
       "output_type": "stream",
       "stream": "stdout",
       "text": [
        " [ 11.05035453] clabels_20_718022311.csv\n",
        "185"
       ]
      },
      {
       "output_type": "stream",
       "stream": "stdout",
       "text": [
        " [ 15.0679142] clabels_17_437901829.csv\n",
        "186"
       ]
      },
      {
       "output_type": "stream",
       "stream": "stdout",
       "text": [
        " [ 9.51761893] clabels_1877050532.csv\n",
        "187"
       ]
      },
      {
       "output_type": "stream",
       "stream": "stdout",
       "text": [
        " [ 9.49339206] clabels_29_1450360702.csv\n",
        "188"
       ]
      },
      {
       "output_type": "stream",
       "stream": "stdout",
       "text": [
        " [ 15.0679142] clabels_18_1683108616.csv\n",
        "189"
       ]
      },
      {
       "output_type": "stream",
       "stream": "stdout",
       "text": [
        " [ 15.0679142] clabels_28_554309782.csv\n",
        "190"
       ]
      },
      {
       "output_type": "stream",
       "stream": "stdout",
       "text": [
        " [ 10.19734625] clabels_25_1821985143.csv\n",
        "191"
       ]
      },
      {
       "output_type": "stream",
       "stream": "stdout",
       "text": [
        " [ 15.0679142] clabels_18_1541059271.csv\n",
        "192"
       ]
      },
      {
       "output_type": "stream",
       "stream": "stdout",
       "text": [
        " [ 15.0679142] clabels_20_271762418.csv\n",
        "193"
       ]
      },
      {
       "output_type": "stream",
       "stream": "stdout",
       "text": [
        " [ 8.63635885] clabels_27_72508436.csv\n",
        "194"
       ]
      },
      {
       "output_type": "stream",
       "stream": "stdout",
       "text": [
        " [ 15.0679142] clabels_22_844477289.csv\n",
        "195"
       ]
      },
      {
       "output_type": "stream",
       "stream": "stdout",
       "text": [
        " [ 10.6788913] clabels_17_737085810.csv\n",
        "196"
       ]
      },
      {
       "output_type": "stream",
       "stream": "stdout",
       "text": [
        " [ 8.50105078] clabels_26_47780365.csv\n",
        "197"
       ]
      },
      {
       "output_type": "stream",
       "stream": "stdout",
       "text": [
        " [ 15.0679142] clabels_28_23369037.csv\n",
        "198"
       ]
      },
      {
       "output_type": "stream",
       "stream": "stdout",
       "text": [
        " [ 15.0679142] clabels_15_2124152718.csv\n",
        "199"
       ]
      },
      {
       "output_type": "stream",
       "stream": "stdout",
       "text": [
        " [ 15.0679142] clabels_18_159228321.csv\n",
        "200"
       ]
      },
      {
       "output_type": "stream",
       "stream": "stdout",
       "text": [
        " [ 9.560135] clabels_22_409834382.csv\n",
        "201"
       ]
      },
      {
       "output_type": "stream",
       "stream": "stdout",
       "text": [
        " [ 8.79990785] clabels_25_499478284.csv\n",
        "202"
       ]
      },
      {
       "output_type": "stream",
       "stream": "stdout",
       "text": [
        " [ 15.0679142] clabels_23_24248304.csv\n",
        "203"
       ]
      },
      {
       "output_type": "stream",
       "stream": "stdout",
       "text": [
        " [ 9.19191759] clabels_14612430.csv\n",
        "204"
       ]
      },
      {
       "output_type": "stream",
       "stream": "stdout",
       "text": [
        " [ 10.87138809] clabels_20_203443973.csv\n",
        "205"
       ]
      },
      {
       "output_type": "stream",
       "stream": "stdout",
       "text": [
        " [ 8.6213457] clabels_21_1828640722.csv\n",
        "206"
       ]
      },
      {
       "output_type": "stream",
       "stream": "stdout",
       "text": [
        " [ 9.16177317] clabels_26_282226983.csv\n",
        "207"
       ]
      },
      {
       "output_type": "stream",
       "stream": "stdout",
       "text": [
        " [ 9.81084525] clabels_22_1302534955.csv\n",
        "208"
       ]
      },
      {
       "output_type": "stream",
       "stream": "stdout",
       "text": [
        " [ 9.63970251] clabels_24_56636607.csv\n",
        "209"
       ]
      },
      {
       "output_type": "stream",
       "stream": "stdout",
       "text": [
        " [ 8.36810119] clabels_21_811483912.csv\n",
        "210"
       ]
      },
      {
       "output_type": "stream",
       "stream": "stdout",
       "text": [
        " [ 15.0679142] clabels_16_1793353374.csv\n",
        "211"
       ]
      },
      {
       "output_type": "stream",
       "stream": "stdout",
       "text": [
        " [ 15.0679142] clabels_16_1586971535.csv\n",
        "212"
       ]
      },
      {
       "output_type": "stream",
       "stream": "stdout",
       "text": [
        " [ 15.0679142] clabels_17_122422491.csv\n",
        "213"
       ]
      },
      {
       "output_type": "stream",
       "stream": "stdout",
       "text": [
        " [ 15.0679142] clabels_15_455633406.csv\n",
        "214"
       ]
      },
      {
       "output_type": "stream",
       "stream": "stdout",
       "text": [
        " [ 15.0679142] clabels_26_443540996.csv\n",
        "215"
       ]
      },
      {
       "output_type": "stream",
       "stream": "stdout",
       "text": [
        " [ 15.0679142] clabels_21_1270907063.csv\n",
        "216"
       ]
      },
      {
       "output_type": "stream",
       "stream": "stdout",
       "text": [
        " [ 15.0679142] clabels_16_294586948.csv\n",
        "217"
       ]
      },
      {
       "output_type": "stream",
       "stream": "stdout",
       "text": [
        " [ 15.0679142] clabels_27_490606430.csv\n",
        "218"
       ]
      },
      {
       "output_type": "stream",
       "stream": "stdout",
       "text": [
        " [ 10.5928208] clabels_20_1759319860.csv\n",
        "219"
       ]
      },
      {
       "output_type": "stream",
       "stream": "stdout",
       "text": [
        " [ 15.0679142] clabels_25_1085281592.csv\n",
        "220"
       ]
      },
      {
       "output_type": "stream",
       "stream": "stdout",
       "text": [
        " [ 10.19603555] clabels_23_1686369398.csv\n",
        "221"
       ]
      },
      {
       "output_type": "stream",
       "stream": "stdout",
       "text": [
        " [ 15.0679142] clabels_23_850970011.csv\n",
        "222"
       ]
      },
      {
       "output_type": "stream",
       "stream": "stdout",
       "text": [
        " [ 9.17103227] clabels_28_1871973628.csv\n",
        "223"
       ]
      },
      {
       "output_type": "stream",
       "stream": "stdout",
       "text": [
        " [ 10.18645449] clabels_19_60263773.csv\n",
        "224"
       ]
      },
      {
       "output_type": "stream",
       "stream": "stdout",
       "text": [
        " [ 8.57847875] clabels_28_931354720.csv\n",
        "225"
       ]
      },
      {
       "output_type": "stream",
       "stream": "stdout",
       "text": [
        " [ 15.0679142] clabels_24_1240668007.csv\n",
        "226"
       ]
      },
      {
       "output_type": "stream",
       "stream": "stdout",
       "text": [
        " [ 15.0679142] clabels_21_1330336431.csv\n",
        "227"
       ]
      },
      {
       "output_type": "stream",
       "stream": "stdout",
       "text": [
        " [ 10.25535517] clabels_27_924818204.csv\n",
        "228"
       ]
      },
      {
       "output_type": "stream",
       "stream": "stdout",
       "text": [
        " [ 8.57410513] clabels_29_575387548.csv\n",
        "229"
       ]
      },
      {
       "output_type": "stream",
       "stream": "stdout",
       "text": [
        " [ 15.0679142] clabels_17_1338780324.csv\n",
        "230"
       ]
      },
      {
       "output_type": "stream",
       "stream": "stdout",
       "text": [
        " [ 10.50655461] clabels_18_906543840.csv\n",
        "231"
       ]
      },
      {
       "output_type": "stream",
       "stream": "stdout",
       "text": [
        " [ 8.63205361] clabels_29_275004231.csv\n",
        "232"
       ]
      },
      {
       "output_type": "stream",
       "stream": "stdout",
       "text": [
        " [ 15.0679142] clabels_27_1615324464.csv\n",
        "233"
       ]
      },
      {
       "output_type": "stream",
       "stream": "stdout",
       "text": [
        " [ 15.0679142] clabels_23_2107070644.csv\n",
        "234"
       ]
      },
      {
       "output_type": "stream",
       "stream": "stdout",
       "text": [
        " [ 9.20334341] clabels_18_458035735.csv\n",
        "235"
       ]
      },
      {
       "output_type": "stream",
       "stream": "stdout",
       "text": [
        " [ 10.27729367] clabels_27_962615538.csv\n",
        "236"
       ]
      },
      {
       "output_type": "stream",
       "stream": "stdout",
       "text": [
        " [ 15.0679142] clabels_24_1126693378.csv\n",
        "237"
       ]
      },
      {
       "output_type": "stream",
       "stream": "stdout",
       "text": [
        " [ 9.95433781] clabels_15_234108184.csv\n",
        "238"
       ]
      },
      {
       "output_type": "stream",
       "stream": "stdout",
       "text": [
        " [ 9.26615404] clabels_21_1298022009.csv\n",
        "239"
       ]
      },
      {
       "output_type": "stream",
       "stream": "stdout",
       "text": [
        " [ 10.29361876] clabels_15_633596243.csv\n",
        "240"
       ]
      },
      {
       "output_type": "stream",
       "stream": "stdout",
       "text": [
        " [ 11.97329032] clabels_17_355497344.csv\n",
        "241"
       ]
      },
      {
       "output_type": "stream",
       "stream": "stdout",
       "text": [
        " [ 15.0679142] clabels_17_1689406423.csv\n",
        "242"
       ]
      },
      {
       "output_type": "stream",
       "stream": "stdout",
       "text": [
        " [ 8.49246533] clabels_21_1220461224.csv\n",
        "243"
       ]
      },
      {
       "output_type": "stream",
       "stream": "stdout",
       "text": [
        " [ 10.24980077] clabels_22_272493467.csv\n",
        "244"
       ]
      },
      {
       "output_type": "stream",
       "stream": "stdout",
       "text": [
        " [ 15.0679142] clabels_27_1433700996.csv\n",
        "245"
       ]
      },
      {
       "output_type": "stream",
       "stream": "stdout",
       "text": [
        " [ 9.59123052] clabels_18_1313003542.csv\n",
        "246"
       ]
      },
      {
       "output_type": "stream",
       "stream": "stdout",
       "text": [
        " [ 15.0679142] clabels_21_674690939.csv\n",
        "247"
       ]
      },
      {
       "output_type": "stream",
       "stream": "stdout",
       "text": [
        " [ 15.0679142] clabels_20_1357388984.csv\n",
        "248"
       ]
      },
      {
       "output_type": "stream",
       "stream": "stdout",
       "text": [
        " [ 8.23088042] clabels_27_1880596820.csv\n",
        "249"
       ]
      },
      {
       "output_type": "stream",
       "stream": "stdout",
       "text": [
        " [ 15.0679142] clabels_20_57671031.csv\n",
        "250"
       ]
      },
      {
       "output_type": "stream",
       "stream": "stdout",
       "text": [
        " [ 10.87798491] clabels_20_170710841.csv\n",
        "251"
       ]
      },
      {
       "output_type": "stream",
       "stream": "stdout",
       "text": [
        " [ 9.1911255] clabels_26_1029903393.csv\n",
        "252"
       ]
      },
      {
       "output_type": "stream",
       "stream": "stdout",
       "text": [
        " [ 15.0679142] clabels_24_1568101871.csv\n",
        "253"
       ]
      },
      {
       "output_type": "stream",
       "stream": "stdout",
       "text": [
        " [ 9.29432259] clabels_25_1536186476.csv\n",
        "254"
       ]
      },
      {
       "output_type": "stream",
       "stream": "stdout",
       "text": [
        " [ 15.0679142] clabels_23_792738533.csv\n",
        "255"
       ]
      },
      {
       "output_type": "stream",
       "stream": "stdout",
       "text": [
        " [ 10.62192572] clabels_25_1395328267.csv\n",
        "256"
       ]
      },
      {
       "output_type": "stream",
       "stream": "stdout",
       "text": [
        " [ 15.0679142] clabels_24_494984376.csv\n",
        "257"
       ]
      },
      {
       "output_type": "stream",
       "stream": "stdout",
       "text": [
        " [ 15.0679142] clabels_18_1245201898.csv\n",
        "258"
       ]
      },
      {
       "output_type": "stream",
       "stream": "stdout",
       "text": [
        " [ 9.27582095] clabels_20_1714483632.csv\n",
        "259"
       ]
      },
      {
       "output_type": "stream",
       "stream": "stdout",
       "text": [
        " [ 15.0679142] clabels_16_968745790.csv\n",
        "260"
       ]
      },
      {
       "output_type": "stream",
       "stream": "stdout",
       "text": [
        " [ 15.0679142] clabels_27_992424625.csv\n",
        "261"
       ]
      },
      {
       "output_type": "stream",
       "stream": "stdout",
       "text": [
        " [ 15.0679142] clabels_28_884083474.csv\n",
        "262"
       ]
      },
      {
       "output_type": "stream",
       "stream": "stdout",
       "text": [
        " [ 15.0679142] clabels_19_1322415286.csv\n",
        "263"
       ]
      },
      {
       "output_type": "stream",
       "stream": "stdout",
       "text": [
        " [ 15.0679142] clabels_17_391459072.csv\n",
        "264"
       ]
      },
      {
       "output_type": "stream",
       "stream": "stdout",
       "text": [
        " [ 9.86867936] clabels_16_1198425374.csv\n",
        "265"
       ]
      },
      {
       "output_type": "stream",
       "stream": "stdout",
       "text": [
        " [ 15.0679142] clabels_25_537409062.csv\n",
        "266"
       ]
      },
      {
       "output_type": "stream",
       "stream": "stdout",
       "text": [
        " [ 10.56550124] clabels_19_319430356.csv\n",
        "267"
       ]
      },
      {
       "output_type": "stream",
       "stream": "stdout",
       "text": [
        " [ 9.19560692] clabels_25_2107574978.csv\n",
        "268"
       ]
      },
      {
       "output_type": "stream",
       "stream": "stdout",
       "text": [
        " [ 9.5435697] clabels_21_447724697.csv\n",
        "269"
       ]
      },
      {
       "output_type": "stream",
       "stream": "stdout",
       "text": [
        " [ 15.0679142] clabels_15_89054299.csv\n",
        "270"
       ]
      },
      {
       "output_type": "stream",
       "stream": "stdout",
       "text": [
        " [ 15.0679142] clabels_24_1565745154.csv\n",
        "271"
       ]
      },
      {
       "output_type": "stream",
       "stream": "stdout",
       "text": [
        " [ 9.20617336] clabels_25_761516028.csv\n",
        "272"
       ]
      },
      {
       "output_type": "stream",
       "stream": "stdout",
       "text": [
        " [ 11.43844623] clabels_16_451703598.csv\n",
        "273"
       ]
      },
      {
       "output_type": "stream",
       "stream": "stdout",
       "text": [
        " [ 15.0679142] clabels_17_701659217.csv\n",
        "274"
       ]
      },
      {
       "output_type": "stream",
       "stream": "stdout",
       "text": [
        " [ 9.22806526] clabels_24_1811304383.csv\n",
        "275"
       ]
      },
      {
       "output_type": "stream",
       "stream": "stdout",
       "text": [
        " [ 15.0679142] clabels_29_1108727650.csv\n",
        "276"
       ]
      },
      {
       "output_type": "stream",
       "stream": "stdout",
       "text": [
        " [ 10.74088774] clabels_16_588456556.csv\n",
        "277"
       ]
      },
      {
       "output_type": "stream",
       "stream": "stdout",
       "text": [
        " [ 15.0679142] clabels_20_1852483376.csv\n",
        "278"
       ]
      },
      {
       "output_type": "stream",
       "stream": "stdout",
       "text": [
        " [ 10.20706665] clabels_21_1332424800.csv\n",
        "279"
       ]
      },
      {
       "output_type": "stream",
       "stream": "stdout",
       "text": [
        " [ 15.0679142] clabels_17_99091562.csv\n",
        "280"
       ]
      },
      {
       "output_type": "stream",
       "stream": "stdout",
       "text": [
        " [ 11.33973285] clabels_16_1069592836.csv\n",
        "281"
       ]
      },
      {
       "output_type": "stream",
       "stream": "stdout",
       "text": [
        " [ 15.0679142] clabels_27_1846306504.csv\n",
        "282"
       ]
      },
      {
       "output_type": "stream",
       "stream": "stdout",
       "text": [
        " [ 9.88545816] clabels_26_1172753156.csv\n",
        "283"
       ]
      },
      {
       "output_type": "stream",
       "stream": "stdout",
       "text": [
        " [ 9.59981989] clabels_21_194380463.csv\n",
        "284"
       ]
      },
      {
       "output_type": "stream",
       "stream": "stdout",
       "text": [
        " [ 15.0679142] clabels_23_1708181432.csv\n",
        "285"
       ]
      },
      {
       "output_type": "stream",
       "stream": "stdout",
       "text": [
        " [ 8.85556962] clabels_19_1823208507.csv\n",
        "286"
       ]
      },
      {
       "output_type": "stream",
       "stream": "stdout",
       "text": [
        " [ 8.85595896] clabels_27_299053972.csv\n",
        "287"
       ]
      },
      {
       "output_type": "stream",
       "stream": "stdout",
       "text": [
        " [ 15.0679142] clabels_27_1152787976.csv\n",
        "288"
       ]
      },
      {
       "output_type": "stream",
       "stream": "stdout",
       "text": [
        " [ 10.97816992] clabels_18_2105949400.csv\n",
        "289"
       ]
      },
      {
       "output_type": "stream",
       "stream": "stdout",
       "text": [
        " [ 15.0679142] clabels_25_1173220774.csv\n",
        "290"
       ]
      },
      {
       "output_type": "stream",
       "stream": "stdout",
       "text": [
        " [ 10.60649978] clabels_22_1170263300.csv\n",
        "291"
       ]
      },
      {
       "output_type": "stream",
       "stream": "stdout",
       "text": [
        " [ 15.0679142] clabels_29_1197978825.csv\n",
        "292"
       ]
      },
      {
       "output_type": "stream",
       "stream": "stdout",
       "text": [
        " [ 11.26778522] clabels_15_1223666875.csv\n",
        "293"
       ]
      },
      {
       "output_type": "stream",
       "stream": "stdout",
       "text": [
        " [ 8.30281929] clabels_22_683155314.csv\n",
        "294"
       ]
      },
      {
       "output_type": "stream",
       "stream": "stdout",
       "text": [
        " [ 15.0679142] clabels_25_203804182.csv\n",
        "295"
       ]
      },
      {
       "output_type": "stream",
       "stream": "stdout",
       "text": [
        " [ 15.0679142] clabels_26_1308897442.csv\n",
        "296"
       ]
      },
      {
       "output_type": "stream",
       "stream": "stdout",
       "text": [
        " [ 10.59307271] clabels_15_2009716181.csv\n",
        "297"
       ]
      },
      {
       "output_type": "stream",
       "stream": "stdout",
       "text": [
        " [ 15.0679142] clabels_21_1612146708.csv\n",
        "298"
       ]
      },
      {
       "output_type": "stream",
       "stream": "stdout",
       "text": [
        " [ 15.0679142] clabels_15_173215226.csv\n",
        "299"
       ]
      },
      {
       "output_type": "stream",
       "stream": "stdout",
       "text": [
        " [ 9.90796005] clabels_23_810109899.csv\n",
        "300"
       ]
      },
      {
       "output_type": "stream",
       "stream": "stdout",
       "text": [
        " [ 15.0679142] clabels_26_106934250.csv\n",
        "301"
       ]
      },
      {
       "output_type": "stream",
       "stream": "stdout",
       "text": [
        " [ 15.0679142] clabels_16_732176503.csv\n",
        "302"
       ]
      },
      {
       "output_type": "stream",
       "stream": "stdout",
       "text": [
        " [ 11.31290299] clabels_15_726066420.csv\n",
        "303"
       ]
      },
      {
       "output_type": "stream",
       "stream": "stdout",
       "text": [
        " [ 15.0679142] clabels_18_214091386.csv\n",
        "304"
       ]
      },
      {
       "output_type": "stream",
       "stream": "stdout",
       "text": [
        " [ 9.51984853] clabels_27_1949456053.csv\n",
        "305"
       ]
      },
      {
       "output_type": "stream",
       "stream": "stdout",
       "text": [
        " [ 8.8884399] clabels_24_1206858683.csv\n",
        "306"
       ]
      },
      {
       "output_type": "stream",
       "stream": "stdout",
       "text": [
        " [ 15.0679142] clabels_24_235763593.csv\n",
        "307"
       ]
      },
      {
       "output_type": "stream",
       "stream": "stdout",
       "text": [
        " [ 10.25277021] clabels_24_623973871.csv\n",
        "308"
       ]
      },
      {
       "output_type": "stream",
       "stream": "stdout",
       "text": [
        " [ 9.19370297] clabels_25_732295376.csv\n",
        "309"
       ]
      },
      {
       "output_type": "stream",
       "stream": "stdout",
       "text": [
        " [ 15.0679142] clabels_21_587315104.csv\n",
        "310"
       ]
      },
      {
       "output_type": "stream",
       "stream": "stdout",
       "text": [
        " [ 15.0679142] clabels_15_1011167141.csv\n",
        "311"
       ]
      },
      {
       "output_type": "stream",
       "stream": "stdout",
       "text": [
        " [ 9.54815944] clabels_17_1786146474.csv\n",
        "312"
       ]
      },
      {
       "output_type": "stream",
       "stream": "stdout",
       "text": [
        " [ 15.0679142] clabels_19_1464710821.csv\n",
        "313"
       ]
      },
      {
       "output_type": "stream",
       "stream": "stdout",
       "text": [
        " [ 15.0679142] clabels_16_109752627.csv\n",
        "314"
       ]
      },
      {
       "output_type": "stream",
       "stream": "stdout",
       "text": [
        " [ 15.0679142] clabels_20_2062587055.csv\n",
        "315"
       ]
      },
      {
       "output_type": "stream",
       "stream": "stdout",
       "text": [
        " [ 15.0679142] clabels_18_1388521668.csv\n",
        "316"
       ]
      },
      {
       "output_type": "stream",
       "stream": "stdout",
       "text": [
        " [ 15.0679142] clabels_19_63676288.csv\n",
        "317"
       ]
      },
      {
       "output_type": "stream",
       "stream": "stdout",
       "text": [
        " [ 9.85858682] clabels_17_932875562.csv\n",
        "318"
       ]
      },
      {
       "output_type": "stream",
       "stream": "stdout",
       "text": [
        " [ 15.0679142] clabels_26_1166576615.csv\n",
        "319"
       ]
      },
      {
       "output_type": "stream",
       "stream": "stdout",
       "text": [
        " [ 15.0679142] clabels_25_1132807770.csv\n",
        "320"
       ]
      },
      {
       "output_type": "stream",
       "stream": "stdout",
       "text": [
        " [ 15.0679142] clabels_28_1179621598.csv\n",
        "321"
       ]
      },
      {
       "output_type": "stream",
       "stream": "stdout",
       "text": [
        " [ 10.25391964] clabels_19_1419394171.csv\n",
        "322"
       ]
      },
      {
       "output_type": "stream",
       "stream": "stdout",
       "text": [
        " [ 9.54509134] clabels_22_1461344733.csv\n",
        "323"
       ]
      },
      {
       "output_type": "stream",
       "stream": "stdout",
       "text": [
        " [ 10.66767064] clabels_15_975712050.csv\n",
        "324"
       ]
      },
      {
       "output_type": "stream",
       "stream": "stdout",
       "text": [
        " [ 15.0679142] clabels_16_1031110512.csv\n",
        "325"
       ]
      },
      {
       "output_type": "stream",
       "stream": "stdout",
       "text": [
        " [ 15.0679142] clabels_24_1366296590.csv\n",
        "326"
       ]
      },
      {
       "output_type": "stream",
       "stream": "stdout",
       "text": [
        " [ 9.65165533] clabels_25_1574925700.csv\n",
        "327"
       ]
      },
      {
       "output_type": "stream",
       "stream": "stdout",
       "text": [
        " [ 9.21895618] clabels_24_1838639443.csv\n",
        "328"
       ]
      },
      {
       "output_type": "stream",
       "stream": "stdout",
       "text": [
        " [ 15.0679142] clabels_27_2043977794.csv\n",
        "329"
       ]
      },
      {
       "output_type": "stream",
       "stream": "stdout",
       "text": [
        " [ 11.6697897] clabels_16_56730140.csv\n",
        "330"
       ]
      },
      {
       "output_type": "stream",
       "stream": "stdout",
       "text": [
        " [ 10.28381975] clabels_19_473852744.csv\n",
        "331"
       ]
      },
      {
       "output_type": "stream",
       "stream": "stdout",
       "text": [
        " [ 11.7260426] clabels_15_1127828738.csv\n",
        "332"
       ]
      },
      {
       "output_type": "stream",
       "stream": "stdout",
       "text": [
        " [ 15.0679142] clabels_16_1621888707.csv\n",
        "333"
       ]
      },
      {
       "output_type": "stream",
       "stream": "stdout",
       "text": [
        " [ 8.30687322] clabels_26_1072392071.csv\n",
        "334"
       ]
      },
      {
       "output_type": "stream",
       "stream": "stdout",
       "text": [
        " [ 9.27035283] clabels_28_1537310327.csv\n",
        "335"
       ]
      },
      {
       "output_type": "stream",
       "stream": "stdout",
       "text": [
        " [ 8.2126905] clabels_25_1838724508.csv\n",
        "336"
       ]
      },
      {
       "output_type": "stream",
       "stream": "stdout",
       "text": [
        " [ 15.0679142] clabels_17_1635321988.csv\n",
        "337"
       ]
      },
      {
       "output_type": "stream",
       "stream": "stdout",
       "text": [
        " [ 8.29902826] clabels_24_1159577151.csv\n",
        "338"
       ]
      },
      {
       "output_type": "stream",
       "stream": "stdout",
       "text": [
        " [ 9.21221217] clabels_25_1244882205.csv\n",
        "339"
       ]
      },
      {
       "output_type": "stream",
       "stream": "stdout",
       "text": [
        " [ 15.0679142] clabels_27_260480222.csv\n",
        "340"
       ]
      },
      {
       "output_type": "stream",
       "stream": "stdout",
       "text": [
        " [ 9.84280024] clabels_25_793784589.csv\n",
        "341"
       ]
      },
      {
       "output_type": "stream",
       "stream": "stdout",
       "text": [
        " [ 15.0679142] clabels_21_1882786208.csv\n",
        "342"
       ]
      },
      {
       "output_type": "stream",
       "stream": "stdout",
       "text": [
        " [ 10.99379334] clabels_17_1686463154.csv\n",
        "343"
       ]
      },
      {
       "output_type": "stream",
       "stream": "stdout",
       "text": [
        " [ 9.51008617] clabels_21_1893850627.csv\n",
        "344"
       ]
      },
      {
       "output_type": "stream",
       "stream": "stdout",
       "text": [
        " [ 15.0679142] clabels_20_1946739653.csv\n",
        "345"
       ]
      },
      {
       "output_type": "stream",
       "stream": "stdout",
       "text": [
        " [ 9.50043041] clabels_19_618598210.csv\n",
        "346"
       ]
      },
      {
       "output_type": "stream",
       "stream": "stdout",
       "text": [
        " [ 10.69905156] clabels_19_1621255478.csv\n",
        "347"
       ]
      },
      {
       "output_type": "stream",
       "stream": "stdout",
       "text": [
        " [ 15.0679142] clabels_15_602567655.csv\n",
        "348"
       ]
      },
      {
       "output_type": "stream",
       "stream": "stdout",
       "text": [
        " [ 8.87724613] clabels_18_1452836715.csv\n",
        "349"
       ]
      },
      {
       "output_type": "stream",
       "stream": "stdout",
       "text": [
        " [ 10.24362082] clabels_245056688.csv\n",
        "350"
       ]
      },
      {
       "output_type": "stream",
       "stream": "stdout",
       "text": [
        " [ 15.0679142] clabels_19_341239645.csv\n",
        "351"
       ]
      },
      {
       "output_type": "stream",
       "stream": "stdout",
       "text": [
        " [ 15.0679142] clabels_18_660652741.csv\n",
        "352"
       ]
      },
      {
       "output_type": "stream",
       "stream": "stdout",
       "text": [
        " [ 8.94483017] clabels_24_273896310.csv\n",
        "353"
       ]
      },
      {
       "output_type": "stream",
       "stream": "stdout",
       "text": [
        " [ 9.80672396] clabels_28_1794357199.csv\n",
        "354"
       ]
      },
      {
       "output_type": "stream",
       "stream": "stdout",
       "text": [
        " [ 10.57806157] clabels_18_1899729417.csv\n",
        "355"
       ]
      },
      {
       "output_type": "stream",
       "stream": "stdout",
       "text": [
        " [ 8.85850829] clabels_29_2053240804.csv\n",
        "356"
       ]
      },
      {
       "output_type": "stream",
       "stream": "stdout",
       "text": [
        " [ 9.47207239] clabels_25_1583806593.csv\n",
        "357"
       ]
      },
      {
       "output_type": "stream",
       "stream": "stdout",
       "text": [
        " [ 9.92690284] clabels_28_1127691485.csv\n",
        "358"
       ]
      },
      {
       "output_type": "stream",
       "stream": "stdout",
       "text": [
        " [ 15.0679142] clabels_17_1373461423.csv\n",
        "359"
       ]
      },
      {
       "output_type": "stream",
       "stream": "stdout",
       "text": [
        " [ 15.0679142] clabels_29_1822510302.csv\n",
        "360"
       ]
      },
      {
       "output_type": "stream",
       "stream": "stdout",
       "text": [
        " [ 9.84487594] clabels_25_918117178.csv\n",
        "361"
       ]
      },
      {
       "output_type": "stream",
       "stream": "stdout",
       "text": [
        " [ 15.0679142] clabels_27_210044028.csv\n",
        "362"
       ]
      },
      {
       "output_type": "stream",
       "stream": "stdout",
       "text": [
        " [ 15.0679142] clabels_16_62776506.csv\n",
        "363"
       ]
      },
      {
       "output_type": "stream",
       "stream": "stdout",
       "text": [
        " [ 15.0679142] clabels_29_1802186486.csv\n",
        "364"
       ]
      },
      {
       "output_type": "stream",
       "stream": "stdout",
       "text": [
        " [ 9.66359549] clabels_22_1134750577.csv\n",
        "365"
       ]
      },
      {
       "output_type": "stream",
       "stream": "stdout",
       "text": [
        " [ 9.55661967] clabels_21_513020236.csv\n",
        "366"
       ]
      },
      {
       "output_type": "stream",
       "stream": "stdout",
       "text": [
        " [ 9.37803379] clabels_1219643527.csv\n",
        "367"
       ]
      },
      {
       "output_type": "stream",
       "stream": "stdout",
       "text": [
        " [ 15.0679142] clabels_25_561657366.csv\n",
        "368"
       ]
      },
      {
       "output_type": "stream",
       "stream": "stdout",
       "text": [
        " [ 15.0679142] clabels_29_1832977654.csv\n",
        "369"
       ]
      },
      {
       "output_type": "stream",
       "stream": "stdout",
       "text": [
        " [ 9.9176372] clabels_21_1059504042.csv\n",
        "370"
       ]
      },
      {
       "output_type": "stream",
       "stream": "stdout",
       "text": [
        " [ 15.0679142] clabels_26_1890635935.csv\n",
        "371"
       ]
      },
      {
       "output_type": "stream",
       "stream": "stdout",
       "text": [
        " [ 15.0679142] clabels_22_1420233437.csv\n",
        "372"
       ]
      },
      {
       "output_type": "stream",
       "stream": "stdout",
       "text": [
        " [ 7.99607568] clabels_25_696716708.csv\n",
        "373"
       ]
      },
      {
       "output_type": "stream",
       "stream": "stdout",
       "text": [
        " [ 15.0679142] clabels_25_1222565407.csv\n",
        "374"
       ]
      },
      {
       "output_type": "stream",
       "stream": "stdout",
       "text": [
        " [ 15.0679142] clabels_23_2121877074.csv\n",
        "375"
       ]
      },
      {
       "output_type": "stream",
       "stream": "stdout",
       "text": [
        " [ 15.0679142] clabels_24_1212907657.csv\n",
        "376"
       ]
      },
      {
       "output_type": "stream",
       "stream": "stdout",
       "text": [
        " [ 15.0679142] clabels_29_1527752769.csv\n",
        "377"
       ]
      },
      {
       "output_type": "stream",
       "stream": "stdout",
       "text": [
        " [ 8.86829645] clabels_27_1890083808.csv\n",
        "378"
       ]
      },
      {
       "output_type": "stream",
       "stream": "stdout",
       "text": [
        " [ 11.30566775] clabels_17_1970539262.csv\n",
        "379"
       ]
      },
      {
       "output_type": "stream",
       "stream": "stdout",
       "text": [
        " [ 9.67213519] clabels_531121941.csv\n",
        "380"
       ]
      },
      {
       "output_type": "stream",
       "stream": "stdout",
       "text": [
        " [ 10.53013654] clabels_15_1412109517.csv\n",
        "381"
       ]
      },
      {
       "output_type": "stream",
       "stream": "stdout",
       "text": [
        " [ 9.89864254] clabels_20_918020085.csv\n",
        "382"
       ]
      },
      {
       "output_type": "stream",
       "stream": "stdout",
       "text": [
        " [ 10.38524305] clabels_15_1134604720.csv\n",
        "383"
       ]
      },
      {
       "output_type": "stream",
       "stream": "stdout",
       "text": [
        " [ 15.0679142] clabels_22_1108225249.csv\n",
        "384"
       ]
      },
      {
       "output_type": "stream",
       "stream": "stdout",
       "text": [
        " [ 9.14134444] clabels_25_48025925.csv\n",
        "385"
       ]
      },
      {
       "output_type": "stream",
       "stream": "stdout",
       "text": [
        " [ 9.92242546] clabels_16_505988617.csv\n",
        "386"
       ]
      },
      {
       "output_type": "stream",
       "stream": "stdout",
       "text": [
        " [ 15.0679142] clabels_22_912495754.csv\n",
        "387"
       ]
      },
      {
       "output_type": "stream",
       "stream": "stdout",
       "text": [
        " [ 9.86315079] clabels_22_1986197693.csv\n",
        "388"
       ]
      },
      {
       "output_type": "stream",
       "stream": "stdout",
       "text": [
        " [ 9.77909045] clabels_27_1451906210.csv\n",
        "389"
       ]
      },
      {
       "output_type": "stream",
       "stream": "stdout",
       "text": [
        " [ 15.0679142] clabels_15_744528990.csv\n",
        "390"
       ]
      },
      {
       "output_type": "stream",
       "stream": "stdout",
       "text": [
        " [ 15.0679142] clabels_25_568505710.csv\n",
        "391"
       ]
      },
      {
       "output_type": "stream",
       "stream": "stdout",
       "text": [
        " [ 15.0679142] clabels_19_908192131.csv\n",
        "392"
       ]
      },
      {
       "output_type": "stream",
       "stream": "stdout",
       "text": [
        " [ 9.78642136] clabels_24_376521934.csv\n",
        "393"
       ]
      },
      {
       "output_type": "stream",
       "stream": "stdout",
       "text": [
        " [ 9.88753762] clabels_29_1909022018.csv\n",
        "394"
       ]
      },
      {
       "output_type": "stream",
       "stream": "stdout",
       "text": [
        " [ 15.0679142] clabels_27_419025119.csv\n",
        "395"
       ]
      },
      {
       "output_type": "stream",
       "stream": "stdout",
       "text": [
        " [ 15.0679142] clabels_19_1543929340.csv\n",
        "396"
       ]
      },
      {
       "output_type": "stream",
       "stream": "stdout",
       "text": [
        " [ 15.0679142] clabels_28_1039844489.csv\n",
        "397"
       ]
      },
      {
       "output_type": "stream",
       "stream": "stdout",
       "text": [
        " [ 9.46959613] clabels_26_1931361473.csv\n",
        "398"
       ]
      },
      {
       "output_type": "stream",
       "stream": "stdout",
       "text": [
        " [ 10.67632878] clabels_15_610511220.csv\n",
        "399"
       ]
      },
      {
       "output_type": "stream",
       "stream": "stdout",
       "text": [
        " [ 15.0679142] clabels_27_618781749.csv\n",
        "400"
       ]
      },
      {
       "output_type": "stream",
       "stream": "stdout",
       "text": [
        " [ 9.49033328] clabels_27_1318429966.csv\n",
        "401"
       ]
      },
      {
       "output_type": "stream",
       "stream": "stdout",
       "text": [
        " [ 15.0679142] clabels_18_1785436917.csv\n",
        "402"
       ]
      },
      {
       "output_type": "stream",
       "stream": "stdout",
       "text": [
        " [ 10.87938921] clabels_16_1981781468.csv\n",
        "403"
       ]
      },
      {
       "output_type": "stream",
       "stream": "stdout",
       "text": [
        " [ 15.0679142] clabels_21_576586030.csv\n",
        "404"
       ]
      },
      {
       "output_type": "stream",
       "stream": "stdout",
       "text": [
        " [ 15.0679142] clabels_28_1066674336.csv\n",
        "405"
       ]
      },
      {
       "output_type": "stream",
       "stream": "stdout",
       "text": [
        " [ 9.98277286] clabels_19_320972050.csv\n",
        "406"
       ]
      },
      {
       "output_type": "stream",
       "stream": "stdout",
       "text": [
        " [ 11.37176371] clabels_17_1565319741.csv\n",
        "407"
       ]
      },
      {
       "output_type": "stream",
       "stream": "stdout",
       "text": [
        " [ 15.0679142] clabels_23_724494902.csv\n",
        "408"
       ]
      },
      {
       "output_type": "stream",
       "stream": "stdout",
       "text": [
        " [ 15.0679142] clabels_16_1165565098.csv\n",
        "409"
       ]
      },
      {
       "output_type": "stream",
       "stream": "stdout",
       "text": [
        " [ 10.69108156] clabels_23_1536120311.csv\n",
        "410"
       ]
      },
      {
       "output_type": "stream",
       "stream": "stdout",
       "text": [
        " [ 9.61537686] clabels_29_842409478.csv\n",
        "411"
       ]
      },
      {
       "output_type": "stream",
       "stream": "stdout",
       "text": [
        " [ 10.54721298] clabels_20_1520367200.csv\n",
        "412"
       ]
      },
      {
       "output_type": "stream",
       "stream": "stdout",
       "text": [
        " [ 9.90586388] clabels_18_423624543.csv\n",
        "413"
       ]
      },
      {
       "output_type": "stream",
       "stream": "stdout",
       "text": [
        " [ 15.0679142] clabels_21_1222823174.csv\n",
        "414"
       ]
      },
      {
       "output_type": "stream",
       "stream": "stdout",
       "text": [
        " [ 15.0679142] clabels_23_528041093.csv\n",
        "415"
       ]
      },
      {
       "output_type": "stream",
       "stream": "stdout",
       "text": [
        " [ 15.0679142] clabels_29_114968279.csv\n",
        "416"
       ]
      },
      {
       "output_type": "stream",
       "stream": "stdout",
       "text": [
        " [ 11.60193526] clabels_19_520033707.csv\n",
        "417"
       ]
      },
      {
       "output_type": "stream",
       "stream": "stdout",
       "text": [
        " [ 9.98427913] clabels_29_1979176878.csv\n",
        "418"
       ]
      },
      {
       "output_type": "stream",
       "stream": "stdout",
       "text": [
        " [ 15.0679142] clabels_17_2083309314.csv\n",
        "419"
       ]
      },
      {
       "output_type": "stream",
       "stream": "stdout",
       "text": [
        " [ 8.29921388] clabels_27_2117951924.csv\n",
        "420"
       ]
      },
      {
       "output_type": "stream",
       "stream": "stdout",
       "text": [
        " [ 15.0679142] clabels_20_1103119010.csv\n",
        "421"
       ]
      },
      {
       "output_type": "stream",
       "stream": "stdout",
       "text": [
        " [ 15.0679142] clabels_28_1183404736.csv\n",
        "422"
       ]
      },
      {
       "output_type": "stream",
       "stream": "stdout",
       "text": [
        " [ 15.0679142] clabels_18_597876234.csv\n",
        "423"
       ]
      },
      {
       "output_type": "stream",
       "stream": "stdout",
       "text": [
        " [ 9.18660751] clabels_29_284112069.csv\n",
        "424"
       ]
      },
      {
       "output_type": "stream",
       "stream": "stdout",
       "text": [
        " [ 15.0679142] clabels_25_1890625921.csv\n",
        "425"
       ]
      },
      {
       "output_type": "stream",
       "stream": "stdout",
       "text": [
        " [ 9.89520855] clabels_17_870755353.csv\n",
        "426"
       ]
      },
      {
       "output_type": "stream",
       "stream": "stdout",
       "text": [
        " [ 15.0679142] clabels_24_1972138119.csv\n",
        "427"
       ]
      },
      {
       "output_type": "stream",
       "stream": "stdout",
       "text": [
        " [ 9.12175587] clabels_29_1693989768.csv\n",
        "428"
       ]
      },
      {
       "output_type": "stream",
       "stream": "stdout",
       "text": [
        " [ 9.84361485] clabels_20_1371943536.csv\n",
        "429"
       ]
      },
      {
       "output_type": "stream",
       "stream": "stdout",
       "text": [
        " [ 15.0679142] clabels_27_2077706217.csv\n",
        "430"
       ]
      },
      {
       "output_type": "stream",
       "stream": "stdout",
       "text": [
        " [ 10.57423007] clabels_21_1051627249.csv\n",
        "431"
       ]
      },
      {
       "output_type": "stream",
       "stream": "stdout",
       "text": [
        " [ 10.2659221] clabels_23_1840944168.csv\n",
        "432"
       ]
      },
      {
       "output_type": "stream",
       "stream": "stdout",
       "text": [
        " [ 15.0679142] clabels_29_283259084.csv\n",
        "433"
       ]
      },
      {
       "output_type": "stream",
       "stream": "stdout",
       "text": [
        " [ 15.0679142] clabels_23_1851124702.csv\n",
        "434"
       ]
      },
      {
       "output_type": "stream",
       "stream": "stdout",
       "text": [
        " [ 15.0679142] clabels_26_752051425.csv\n",
        "435"
       ]
      },
      {
       "output_type": "stream",
       "stream": "stdout",
       "text": [
        " [ 10.97166855] clabels_18_1886555124.csv\n",
        "436"
       ]
      },
      {
       "output_type": "stream",
       "stream": "stdout",
       "text": [
        " [ 15.0679142] clabels_18_1431306644.csv\n",
        "437"
       ]
      },
      {
       "output_type": "stream",
       "stream": "stdout",
       "text": [
        " [ 8.20292486] clabels_28_1964965483.csv\n",
        "438"
       ]
      },
      {
       "output_type": "stream",
       "stream": "stdout",
       "text": [
        " [ 9.80632426] clabels_20_1503248062.csv\n",
        "439"
       ]
      },
      {
       "output_type": "stream",
       "stream": "stdout",
       "text": [
        " [ 8.67538031] clabels_27_1143124770.csv\n",
        "440"
       ]
      },
      {
       "output_type": "stream",
       "stream": "stdout",
       "text": [
        " [ 9.30344849] clabels_29_595932408.csv\n",
        "441"
       ]
      },
      {
       "output_type": "stream",
       "stream": "stdout",
       "text": [
        " [ 9.22230201] clabels_23_124766497.csv\n",
        "442"
       ]
      },
      {
       "output_type": "stream",
       "stream": "stdout",
       "text": [
        " [ 15.0679142] clabels_20_496694633.csv\n",
        "443"
       ]
      },
      {
       "output_type": "stream",
       "stream": "stdout",
       "text": [
        " [ 15.0679142] clabels_28_811157494.csv\n",
        "444"
       ]
      },
      {
       "output_type": "stream",
       "stream": "stdout",
       "text": [
        " [ 15.0679142] clabels_23_1119147555.csv\n",
        "445"
       ]
      },
      {
       "output_type": "stream",
       "stream": "stdout",
       "text": [
        " [ 15.0679142] clabels_21_1495507235.csv\n",
        "446"
       ]
      },
      {
       "output_type": "stream",
       "stream": "stdout",
       "text": [
        " [ 9.44984067] clabels_17_1564977262.csv\n",
        "447"
       ]
      },
      {
       "output_type": "stream",
       "stream": "stdout",
       "text": [
        " [ 9.61260616] clabels_28_47992063.csv\n",
        "448"
       ]
      },
      {
       "output_type": "stream",
       "stream": "stdout",
       "text": [
        " [ 10.38180476] clabels_19_1136715574.csv\n",
        "449"
       ]
      },
      {
       "output_type": "stream",
       "stream": "stdout",
       "text": [
        " [ 9.76977707] clabels_28_785979527.csv\n",
        "450"
       ]
      },
      {
       "output_type": "stream",
       "stream": "stdout",
       "text": [
        " [ 9.54067477] clabels_26_985648004.csv\n",
        "451"
       ]
      },
      {
       "output_type": "stream",
       "stream": "stdout",
       "text": [
        " [ 8.52591567] clabels_28_309661655.csv\n",
        "452"
       ]
      },
      {
       "output_type": "stream",
       "stream": "stdout",
       "text": [
        " [ 15.0679142] clabels_26_1588900221.csv\n",
        "453"
       ]
      },
      {
       "output_type": "stream",
       "stream": "stdout",
       "text": [
        " [ 15.0679142] clabels_27_1059112140.csv\n",
        "454"
       ]
      },
      {
       "output_type": "stream",
       "stream": "stdout",
       "text": [
        " [ 15.0679142] clabels_18_701190066.csv\n",
        "455"
       ]
      },
      {
       "output_type": "stream",
       "stream": "stdout",
       "text": [
        " [ 9.20127554] clabels_20_617235337.csv\n",
        "456"
       ]
      },
      {
       "output_type": "stream",
       "stream": "stdout",
       "text": [
        " [ 15.0679142] clabels_24_368430368.csv\n",
        "457"
       ]
      },
      {
       "output_type": "stream",
       "stream": "stdout",
       "text": [
        " [ 9.68176128] clabels_20_1105126349.csv\n",
        "458"
       ]
      },
      {
       "output_type": "stream",
       "stream": "stdout",
       "text": [
        " [ 15.0679142] clabels_15_987747206.csv\n",
        "459"
       ]
      },
      {
       "output_type": "stream",
       "stream": "stdout",
       "text": [
        " [ 15.0679142] clabels_26_1013749891.csv\n"
       ]
      }
     ],
     "prompt_number": 39
    },
    {
     "cell_type": "code",
     "collapsed": false,
     "input": [
      "with open('/root/code/intel/output.csv') as csvfile:\n",
      "    label = np.array(re.split(r',', csvfile.readline()), dtype=int)\n",
      "    mse = get_mse(train_data, label)"
     ],
     "language": "python",
     "metadata": {},
     "outputs": [],
     "prompt_number": 14
    },
    {
     "cell_type": "code",
     "collapsed": false,
     "input": [
      "print [np.sum(label==i) for i in unique(label)]\n",
      "# unique(label)"
     ],
     "language": "python",
     "metadata": {},
     "outputs": [
      {
       "output_type": "stream",
       "stream": "stdout",
       "text": [
        "[1834, 1828, 1837, 1815, 1789, 836, 1283, 1792, 629, 547, 941, 1825, 1776, 3788, 1811, 629, 1821, 620, 1829, 1678, 1810, 1835, 1811, 1801, 1835]\n"
       ]
      }
     ],
     "prompt_number": 17
    },
    {
     "cell_type": "code",
     "collapsed": false,
     "input": [
      "mse"
     ],
     "language": "python",
     "metadata": {},
     "outputs": [
      {
       "metadata": {},
       "output_type": "pyout",
       "prompt_number": 11,
       "text": [
        "7.9974252676236324"
       ]
      }
     ],
     "prompt_number": 11
    },
    {
     "cell_type": "code",
     "collapsed": false,
     "input": [
      "mse"
     ],
     "language": "python",
     "metadata": {},
     "outputs": [
      {
       "metadata": {},
       "output_type": "pyout",
       "prompt_number": 12,
       "text": [
        "7.9974252676236324"
       ]
      }
     ],
     "prompt_number": 12
    }
   ],
   "metadata": {}
  }
 ]
}